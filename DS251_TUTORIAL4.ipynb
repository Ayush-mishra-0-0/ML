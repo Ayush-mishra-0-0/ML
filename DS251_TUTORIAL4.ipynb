{
  "nbformat": 4,
  "nbformat_minor": 0,
  "metadata": {
    "colab": {
      "provenance": [],
      "toc_visible": true,
      "authorship_tag": "ABX9TyPjfxkmJ9v270JcSYPKbU8j",
      "include_colab_link": true
    },
    "kernelspec": {
      "name": "python3",
      "display_name": "Python 3"
    },
    "language_info": {
      "name": "python"
    }
  },
  "cells": [
    {
      "cell_type": "markdown",
      "metadata": {
        "id": "view-in-github",
        "colab_type": "text"
      },
      "source": [
        "<a href=\"https://colab.research.google.com/github/Ayush-mishra-0-0/ML/blob/main/DS251_TUTORIAL4.ipynb\" target=\"_parent\"><img src=\"https://colab.research.google.com/assets/colab-badge.svg\" alt=\"Open In Colab\"/></a>"
      ]
    },
    {
      "cell_type": "markdown",
      "source": [
        "[Assignment link](https://cdn-uploads.piazza.com/paste/l6w1bx8r3hy6df/4999a7f860fb45a91cf68bb7a13bea35591e5875abfbe4789df568d8f23ba802/Assignment4.pdf)  \n",
        "# <FONT color=\"pink\">QUESTION-1</FONT>  \n"
      ],
      "metadata": {
        "id": "ENbEF3U-vnQb"
      }
    },
    {
      "cell_type": "code",
      "execution_count": 44,
      "metadata": {
        "id": "txDB44t55vmE"
      },
      "outputs": [],
      "source": [
        "import pandas as pd\n",
        "import numpy as np\n",
        "import numpy as np\n",
        "from scipy import stats\n",
        "from scipy.stats import norm, t"
      ]
    },
    {
      "cell_type": "markdown",
      "source": [
        "## Explaination"
      ],
      "metadata": {
        "id": "v1izeZyVmmPK"
      }
    },
    {
      "cell_type": "markdown",
      "source": [
        "### **Background**\n",
        "\n",
        "We're exploring a random sample $X_{1},X_{2},\\dots,X_{n}$ derived from a Poisson distribution characterized by parameter $\\theta$. Each sample's behavior is encapsulated by a probability mass function (pmf), elegantly defined as:\n",
        "\n",
        "$$\n",
        "f(x_{i};\\theta) = \\frac{\\theta^{x_i} e^{-\\theta}}{x_{i}!}, \\quad x_{i} = 0,1,2,\\dots\n",
        "$$\n",
        "\n",
        "The likelihood function orchestrating our analysis is a testament to its elegance:\n",
        "\n",
        "$$\n",
        "L(\\theta; x_1, x_2, \\dots, x_{n}) = \\frac{e^{-n\\theta}\\,\\theta^{\\sum_{i=1}^{n}x_i}}{\\prod_{i=1}^{n} (x_i!)}\n",
        "$$\n",
        "\n",
        "### **Hypothesis Testing**\n",
        "\n",
        "Our journey embarks on testing two contrasting hypotheses:\n",
        "\n",
        "- The Null Hypothesis ($H_{\\circ}$): Assuming $\\theta = 0.2$\n",
        "- The Alternative Hypothesis ($H_{1}$): Believing $\\theta = 0.6$\n",
        "\n",
        "### **Neyman-Pearson Approach**\n",
        "\n",
        "We invoke the Neyman-Pearson theorem, an illustrious guide enabling the crafting of the most potent test at any significance level.\n",
        "\n",
        "The theorem exhorts that for a critical region $C$, the ratio of likelihoods must uphold:\n",
        "\n",
        "$$\n",
        "\\frac{L(\\theta = 0.2;\\overrightarrow{x})}{L(\\theta = 0.6;\\overrightarrow x)} \\leq k\n",
        "$$\n",
        "\n",
        "where $k$ mirrors our chosen significance level.\n",
        "\n",
        "### **Deriving the Critical Region**\n",
        "\n",
        "With dexterity, we substitute expressions for likelihoods, unwinding a web of equations:\n",
        "\n",
        "$$\n",
        "\\frac{\\frac{e^{-n(0.2)}\\,(0.2)^{\\sum_{i=1}^{n}x_{i}}}{\\prod_{i=1}^{n} (x_i!)}}{\\frac{e^{-n(0.6)}\\,(0.6)^{\\sum_{i=1}^{n}x_i}}{\\prod_{i=1}^{n} (x_i!)}} \\leq k\n",
        "$$\n",
        "\n",
        "This condenses to:\n",
        "\n",
        "$$\n",
        "e^{n(0.4)} \\cdot \\left(\\frac{1}{3}\\right)^{\\sum_{i=1}^{n}x_{i}} \\leq k\n",
        "$$\n",
        "\n",
        "$$\n",
        "3^{\\sum_{i=1}^{n}x_{i}} \\geq \\frac{e^{0.4n}}{k}\n",
        "$$\n",
        "\n",
        "$$\n",
        "\\sum_{i=1}^{n}x_{i} \\geq \\frac{0.4n-\\ln(k)}{\\ln(3)}\n",
        "$$\n",
        "\n",
        "### **Best Critical Region Selection**\n",
        "\n",
        "Our path forward is illuminated by the significance of $n$. As we set $n=10$, a revelation emerges:\n",
        "\n",
        "$$\n",
        "\\sum_{i=1}^{n}x_{i} \\geq 3\n",
        "$$\n",
        "\n",
        "Thus, irrespective of $k$, if the sum of observed values $x_i$ in our sample towers at 3 or beyond, we bid adieu to the null hypothesis $H_{\\circ}$, embracing the vibrant alternative $H_{1}$.\n",
        "\n",
        "This ensures a test of unparalleled potency, capable of discerning truth from conjecture.\n"
      ],
      "metadata": {
        "id": "I_E4CVkciqbK"
      }
    },
    {
      "cell_type": "markdown",
      "source": [
        "---\n",
        "### **Theoretical Analysis**\n",
        "\n",
        "**Expected Group Mean**\n",
        "\n",
        "Begin by understanding the expected mean for $\\sum_{i=1}^{n}x_{i}$, calculated as $n\\theta$. Assuming $n=10$, the group mean at $\\theta = 0.2$ is $\\lambda = 10 \\times 0.2 = 2$.\n",
        "\n",
        "---\n",
        "\n",
        "\n",
        "**Significance Level Calculation**\n",
        "\n",
        "Delve into the significance level ($\\alpha$) calculation, a crucial aspect of hypothesis testing, indicating the probability of committing a Type I error.\n",
        "\n",
        "---\n",
        "\n",
        "\n",
        "$\\begin{aligned}\n",
        "\\alpha & \\quad \\Longrightarrow \\quad \\gamma_C(\\theta=0.2) \\\\\n",
        "& \\quad \\Longrightarrow \\quad P_{\\{\\theta=0.6\\}}(\\overrightarrow x \\in C) \\\\\n",
        "& \\quad \\Longrightarrow \\quad P_{\\{\\theta=0.2\\}}\\left(\\sum_{i=1}^{10} x_i \\geq 3\\right) \\\\\n",
        "& \\quad \\Longrightarrow \\quad P(x_i \\geq 3) \\\\\n",
        "& \\quad \\Longrightarrow \\quad 1 - P(x_i < 3) \\\\\n",
        "& \\quad \\Longrightarrow \\quad 1 - (P(x = 0) + P(x = 1) + P(x = 2)) \\\\\n",
        "& \\quad \\Longrightarrow \\quad 1 - e^{-2}\\left(\\frac{2^0}{0!} + \\frac{2^1}{1!} + \\frac{2^2}{2!}\\right) \\\\\n",
        "& \\quad \\Longrightarrow \\quad 0.32332\n",
        "\\end{aligned}$\n",
        "\n"
      ],
      "metadata": {
        "id": "KVkjDsqsj-q6"
      }
    },
    {
      "cell_type": "markdown",
      "source": [
        "---\n",
        "\n",
        "### **Further Analysis**\n",
        "\n",
        "**Group Mean at $\\theta = 0.6$**\n",
        "\n",
        "Let's recalibrate our compass to explore the group mean at $\\theta = 0.6$, unfolding as $\\lambda = 10 \\times 0.6 = 6$.\n",
        "\n",
        "---\n",
        "\n",
        "**Calculation of Test Power at $\\theta = 0.6$**\n",
        "\n",
        "Prepare to navigate the intricate currents of test power calculation at $\\theta = 0.6$, a beacon guiding us through the labyrinth of hypothesis testing, revealing the probability of distinguishing a true alternative hypothesis.\n",
        "\n",
        "$\\begin{aligned}\n",
        "\\gamma_{C}(\\theta = 0.6) & \\quad \\Longrightarrow \\quad P_{\\{\\theta=0.6\\}}(\\overrightarrow x \\in C) \\\\\n",
        "& \\quad \\Longrightarrow \\quad P_{\\{\\theta=0.6\\}}\\left(\\sum_{i=1}^{10} x_i \\geq 3\\right) \\\\\n",
        "& \\quad \\Longrightarrow \\quad P(x_i \\geq 3) \\\\\n",
        "& \\quad \\Longrightarrow \\quad 1 - P(x_i < 3) \\\\\n",
        "& \\quad \\Longrightarrow \\quad 1 - (P(x = 0) + P(x = 1) + P(x = 2)) \\\\\n",
        "& \\quad \\Longrightarrow \\quad 1 - e^{-6}\\left(\\frac{6^0}{0!} + \\frac{6^1}{1!} + \\frac{6^2}{2!}\\right) \\\\\n",
        "& \\quad \\Longrightarrow \\quad 0.93803\n",
        "\\end{aligned}$\n"
      ],
      "metadata": {
        "id": "0wxFZfoVk6Jj"
      }
    },
    {
      "cell_type": "markdown",
      "source": [
        "## Part-a\n",
        "### Generate a random sample of size 10000 from a Poisson distribution with mean θ.\n"
      ],
      "metadata": {
        "id": "RSm9Kv37IIwE"
      }
    },
    {
      "cell_type": "code",
      "source": [
        "import random\n",
        "import math\n",
        "def random_poisson_mult(Lambda , size):\n",
        "    uniform = np.random.uniform(0,0.95,size)\n",
        "    poisson = []\n",
        "\n",
        "    for u in uniform:\n",
        "        k = 0\n",
        "        p = np.exp(-Lambda)\n",
        "        CDF = p\n",
        "        while(CDF < u):\n",
        "            k += 1\n",
        "            p *= Lambda / k\n",
        "            CDF += p\n",
        "        poisson.append(k)\n",
        "\n",
        "    return np.array(poisson)"
      ],
      "metadata": {
        "id": "tLK5TezEIHEY"
      },
      "execution_count": 48,
      "outputs": []
    },
    {
      "cell_type": "markdown",
      "source": [
        "## Part-B\n",
        "#### Defining the e the critical region C as the sum of the sample being greater than or equal to 3"
      ],
      "metadata": {
        "id": "lzNw8BjcIeW2"
      }
    },
    {
      "cell_type": "code",
      "source": [
        "def calculate_critical_region(sample):\n",
        "    \"\"\"\n",
        "    Calculates the critical region C defined by P10000 i=1 Xi ≥ 3.\n",
        "    \"\"\"\n",
        "    return np.sum(sample) >= 3\n"
      ],
      "metadata": {
        "id": "NY92PqKzGHC2"
      },
      "execution_count": 49,
      "outputs": []
    },
    {
      "cell_type": "markdown",
      "source": [
        "## Part-C\n",
        "#### Hypothesis testing by comparing the critical region with the significance level α"
      ],
      "metadata": {
        "id": "zpOCU9LQIruI"
      }
    },
    {
      "cell_type": "code",
      "source": [
        "def crticial_test(sample):\n",
        "    return sum(sample)>=3"
      ],
      "metadata": {
        "id": "1Johd-0bnoyF"
      },
      "execution_count": 50,
      "outputs": []
    },
    {
      "cell_type": "code",
      "source": [
        "def calculate_power_of_test(theta, sample_size=10000, sim=1000):\n",
        "    return sum(calculate_critical_region(random_poisson_mult(theta, sample_size)) for _ in range(sim)) / sim\n",
        "\n",
        "# Define the null and alternative hypotheses\n",
        "null_hypothesis_theta = 0.2\n",
        "alternative_hypothesis_theta = 0.6\n",
        "\n",
        "# Calculate the significance level for the null hypothesis\n",
        "significance_level = calculate_power_of_test(null_hypothesis_theta, sample_size=10)"
      ],
      "metadata": {
        "id": "VfYOlG9KGL83"
      },
      "execution_count": 51,
      "outputs": []
    },
    {
      "cell_type": "code",
      "source": [
        "class colors:\n",
        "    GREEN = '\\033[92m'\n",
        "    RED = '\\033[91m'\n",
        "    END = '\\033[0m'"
      ],
      "metadata": {
        "id": "xktFpX3bo3KQ"
      },
      "execution_count": 52,
      "outputs": []
    },
    {
      "cell_type": "code",
      "source": [
        "# Print the significance level calculation result\n",
        "print(\"\\nSignificance Level Calculation:\")\n",
        "print(f\"\\nSignificance Level for the Null Hypothesis (θ = {null_hypothesis_theta}): {significance_level:.4f}\")\n",
        "\n",
        "# Interpretation of the result\n",
        "print(\"\\nInterpretation:\")\n",
        "if significance_level < 0.2:\n",
        "    print(\"    The significance level is less than the theoretical alpha (0.2).\")\n",
        "    print(f\"    {colors.RED}Conclusion: We reject the null hypothesis.{colors.END}\")\n",
        "else:\n",
        "    print(\"    The significance level is greater than or equal to the theoretical alpha (0.2).\")\n",
        "    print(f\"    {colors.GREEN}Conclusion: We fail to reject the null hypothesis.{colors.END}\")\n"
      ],
      "metadata": {
        "colab": {
          "base_uri": "https://localhost:8080/"
        },
        "id": "rOTbYXMEmxxj",
        "outputId": "c9121a42-70e8-4425-fd56-772b6bb7847b"
      },
      "execution_count": 53,
      "outputs": [
        {
          "output_type": "stream",
          "name": "stdout",
          "text": [
            "\n",
            "Significance Level Calculation:\n",
            "\n",
            "Significance Level for the Null Hypothesis (θ = 0.2): 0.1490\n",
            "\n",
            "Interpretation:\n",
            "    The significance level is less than the theoretical alpha (0.2).\n",
            "    \u001b[91mConclusion: We reject the null hypothesis.\u001b[0m\n"
          ]
        }
      ]
    },
    {
      "cell_type": "markdown",
      "source": [
        "# Question-B"
      ],
      "metadata": {
        "id": "-X9-FNVFmcqG"
      }
    },
    {
      "cell_type": "markdown",
      "source": [
        "## Explaination"
      ],
      "metadata": {
        "id": "d9S80IoCqjAX"
      }
    },
    {
      "cell_type": "markdown",
      "source": [
        "---\n",
        "\n",
        "### **Hypothesis Testing for Gaussian Distribution**\n",
        "\n",
        "We embark on a journey through the realm of hypothesis testing, where our quest leads us to scrutinize a random sample $X_{1},X_{2},\\dots,X_{100}$ drawn from a Gaussian distribution. Each $X_i$ is governed by the following probability density function (pdf):\n",
        "\n",
        "$$\n",
        "f(x_i) = \\frac{1}{\\sqrt{2\\pi}\\sigma} e^{-\\frac{1}{2}\\left(\\frac{x_i-\\mu}{\\sigma}\\right)^2}\n",
        "$$\n"
      ],
      "metadata": {
        "id": "FOVBx4HepJKJ"
      }
    },
    {
      "cell_type": "markdown",
      "source": [
        "Likelihood of the Sample\n",
        "The likelihood of our sample, denoted by $L(\\mu;\\overrightarrow x)$, is a beacon guiding us through the labyrinth of hypothesis testing. It's eloquently expressed as:"
      ],
      "metadata": {
        "id": "NWdeANLnpfbR"
      }
    },
    {
      "cell_type": "markdown",
      "source": [
        "$$\n",
        "L(\\mu;\\overrightarrow x) = \\left(\\frac{1}{\\sqrt{2\\pi}\\sigma}\\right)^{100} e^{-\\frac{1}{2}\\sum_{i=1}^{100}\\left(\\frac{x_i-\\mu}{\\sigma}\\right)^2}\n",
        "$$\n"
      ],
      "metadata": {
        "id": "oNKYcSx9pjQy"
      }
    },
    {
      "cell_type": "markdown",
      "source": [
        "Testing Hypotheses\n",
        "Employing the same method as in Question 1, we embark on testing hypothesis $H_{\\circ}:\\mu=15$ against $H_1:\\mu=18$. Assuming for some $k\\ge0$, we derive the following expression:"
      ],
      "metadata": {
        "id": "_W_SFFj2pjVL"
      }
    },
    {
      "cell_type": "markdown",
      "source": [
        "$$\n",
        "\\frac{L(\\mu = 15;\\overrightarrow{x}}{L(\\mu = 18;\\overrightarrow x)} \\le k\n",
        "$$\n",
        "\n",
        "$$\n",
        "e^{\\frac{-1}{2\\sigma^2}\\sum\\limits_{i=1}^{100}(x_i-15)^2-(x_i-18)^2} \\le k\n",
        "$$\n",
        "\n",
        "$$\n",
        "\\bar X \\ge \\frac{3300}{200}-\\frac{\\sigma^2}{300}\\ln(k)\n",
        "$$\n"
      ],
      "metadata": {
        "id": "Zf46lPpppjYm"
      }
    },
    {
      "cell_type": "markdown",
      "source": [
        "Approximately, this leads to the critical region $\\bar X \\ge 20$."
      ],
      "metadata": {
        "id": "Hka3LlO1pjbn"
      }
    },
    {
      "cell_type": "markdown",
      "source": [
        "---\n",
        "\n",
        "### **Critical Region and Significance Level Calculation**\n",
        "\n",
        "Define the Critical region $C$ as $\\bar X\\ge 20$.\n",
        "\n",
        "Assuming $\\sigma = 10$ for simplicity, we can find the significance level as:\n",
        "\n",
        "$$\n",
        "\\alpha = P_{\\mu=15}(\\bar X \\notin C) \\\\\n",
        "= P_{\\mu=15}(\\bar X \\le 20) \\\\\n",
        "= P_{\\mu=15}\\left(\\frac{\\bar X-15}{10/10} \\le \\frac{20-15}{10/10} \\right) \\\\\n",
        "= \\Phi(5) \\\\\n",
        "\\approx 1\n",
        "$$\n",
        "\n",
        "### **Power of Test Calculation**\n",
        "\n",
        "For finding the power of the test at $\\mu = 18$, we need:\n",
        "\n",
        "$$\n",
        "\\gamma_C(\\mu=18) = P_{\\mu=18}(\\bar X \\in C) \\\\\n",
        "= P_{\\mu=18}(\\bar X \\ge 20) \\\\\n",
        "= P_{\\mu=18}\\left(\\frac{\\bar X-18}{10/10} \\ge \\frac{20-18}{10/10} \\right) \\\\\n",
        "= 1-\\Phi(2) \\\\\n",
        "= 0.02275\n",
        "$$\n",
        "\n",
        "---\n"
      ],
      "metadata": {
        "id": "vwi0f225pje_"
      }
    },
    {
      "cell_type": "markdown",
      "source": [
        "## Part-A"
      ],
      "metadata": {
        "id": "MLGdE0EpqcNd"
      }
    },
    {
      "cell_type": "code",
      "source": [
        "def generate_gaussian(mean = 0, var = 1,size = 100):\n",
        "    uniform = np.random.uniform(0,0.8,size)\n",
        "    gaussian = norm.ppf(uniform)\n",
        "    transformed = np.sqrt(var)*gaussian+mean\n",
        "\n",
        "    return transformed"
      ],
      "metadata": {
        "id": "K0K3E4R6HcfH"
      },
      "execution_count": 54,
      "outputs": []
    },
    {
      "cell_type": "markdown",
      "source": [
        "## Part-B"
      ],
      "metadata": {
        "id": "kHsWWE8Aq4Tx"
      }
    },
    {
      "cell_type": "code",
      "source": [
        "def crticial_test(sample):\n",
        "    return sum(sample)>=3"
      ],
      "metadata": {
        "id": "bCOdiMpUqzO0"
      },
      "execution_count": 55,
      "outputs": []
    },
    {
      "cell_type": "markdown",
      "source": [
        "## Part-C"
      ],
      "metadata": {
        "id": "mjZOHcB_q688"
      }
    },
    {
      "cell_type": "code",
      "source": [
        "# One-liner for power_test_2 function\n",
        "def power_test_2(mu, sample_size=100, sim=1000):\n",
        "    return sum(crticial_test(generate_gaussian(mu, 10, sample_size)) for _ in range(sim)) / sim\n",
        "\n",
        "# Define null and alternative hypotheses\n",
        "mu_null = 15\n",
        "mu_alt = 18\n",
        "\n",
        "# Calculate the significance level for the null hypothesis\n",
        "alpha = power_test_2(mu_null, sample_size=100)"
      ],
      "metadata": {
        "id": "cTFN0lPpq6Lw"
      },
      "execution_count": 56,
      "outputs": []
    },
    {
      "cell_type": "code",
      "source": [
        "# Interpretation of the result\n",
        "print(\"\\nInterpretation:\")\n",
        "if significance_level < 0.05:\n",
        "    print(\"    The significance level is less than the theoretical alpha (0.2).\")\n",
        "    print(f\"    {colors.RED}Conclusion: We reject the null hypothesis.{colors.END}\")\n",
        "else:\n",
        "    print(\"    The significance level is greater than or equal to the theoretical alpha (0.2).\")\n",
        "    print(f\"    {colors.GREEN}Conclusion: We fail to reject the null hypothesis.{colors.END}\")\n"
      ],
      "metadata": {
        "colab": {
          "base_uri": "https://localhost:8080/"
        },
        "id": "PU0c-GwUrZ8U",
        "outputId": "602312d5-fd07-45f9-e4c2-af45bc33503e"
      },
      "execution_count": 57,
      "outputs": [
        {
          "output_type": "stream",
          "name": "stdout",
          "text": [
            "\n",
            "Interpretation:\n",
            "    The significance level is greater than or equal to the theoretical alpha (0.2).\n",
            "    \u001b[92mConclusion: We fail to reject the null hypothesis.\u001b[0m\n"
          ]
        }
      ]
    },
    {
      "cell_type": "markdown",
      "source": [
        "# Question-3"
      ],
      "metadata": {
        "id": "fbbdAiHrtKZ8"
      }
    },
    {
      "cell_type": "markdown",
      "source": [
        "\n",
        "In this code:\n",
        "- We define the dataset `scores` and true mean `true_mean`.\n",
        "- Functions `t_test` and `p_test` are defined to perform t-test and calculate p-value, respectively.\n",
        "- The t-statistic and p-value are calculated for the original dataset.\n",
        "- The dataset is corrected, and t-statistic and p-value are recalculated for the corrected dataset.\n",
        "- Results are printed for both original and corrected datasets.\n"
      ],
      "metadata": {
        "id": "bJvEpoMZtNxL"
      }
    },
    {
      "cell_type": "code",
      "source": [
        "# Define the dataset\n",
        "scores = np.array([78, 82, 85, 79, 81, 83, 80, 77, 79, 84, 76, 82, 80, 81, 83, 78, 82, 79, 81, 83, 77, 80, 81, 84, 79, 82, 80, 82, 83, 78, 75, 78, 82, 83, 76, 80, 82, 84, 77, 79])\n",
        "\n",
        "# Function for performing t-test\n",
        "def t_test(true, sample):\n",
        "    mean = np.mean(sample)\n",
        "    std = np.std(sample, ddof=1)\n",
        "    n = len(sample)\n",
        "    t_val = (mean - true) / (std / np.sqrt(n))\n",
        "    return t_val\n",
        "\n",
        "# Function for calculating p-value\n",
        "def p_test(t_val, df):\n",
        "    p_value = 2 * (1 - t.cdf(np.abs(t_val), df))\n",
        "    return p_value\n",
        "\n",
        "# Define true mean and calculate t-statistic and p-value\n",
        "true_mean = 75\n",
        "t_stat = t_test(true_mean, scores)\n",
        "p_val = p_test(t_stat, len(scores)-1)\n",
        "print(\"Original Values:\")\n",
        "print(\"t-statistic:\", t_stat)\n",
        "print(\"p-value:\", p_val)\n",
        "\n",
        "# Corrected dataset\n",
        "scores_corrected = np.array([78, 82, 75, 79, 81, 83, 80, 77, 79, 84, 76, 82, 80, 81, 83, 78, 82, 79, 81, 83, 77, 80, 81, 84, 79, 82, 80, 82, 83, 78, 75, 78, 82, 83, 76, 80, 82, 84, 77, 79])\n",
        "\n",
        "# Calculate t-statistic and p-value for corrected dataset\n",
        "t2 = t_test(true_mean, scores_corrected)\n",
        "p2 = p_test(t2, len(scores)-1)\n",
        "print(\"\\nCorrected Values:\")\n",
        "print(\"t-statistic:\", t2)\n",
        "print(\"p-value:\", p2)\n"
      ],
      "metadata": {
        "colab": {
          "base_uri": "https://localhost:8080/"
        },
        "id": "JxFjIarwtRr_",
        "outputId": "ab3bd6a0-af51-4a67-8dff-a8726c304f19"
      },
      "execution_count": 66,
      "outputs": [
        {
          "output_type": "stream",
          "name": "stdout",
          "text": [
            "Original Values:\n",
            "t-statistic: 13.443560663316497\n",
            "p-value: 4.440892098500626e-16\n",
            "\n",
            "Corrected Values:\n",
            "t-statistic: 12.69167538501612\n",
            "p-value: 1.9984014443252818e-15\n"
          ]
        }
      ]
    },
    {
      "cell_type": "code",
      "source": [
        "import matplotlib.pyplot as plt\n",
        "# Plot histograms\n",
        "plt.figure(figsize=(10, 5))\n",
        "plt.hist(scores, bins=10, alpha=0.5, label='Original Scores')\n",
        "plt.hist(scores_corrected, bins=10, alpha=0.5, label='Corrected Scores')\n",
        "plt.axvline(np.mean(scores), color='blue', linestyle='dashed', linewidth=1, label='Mean (Original)')\n",
        "plt.axvline(np.mean(scores_corrected), color='orange', linestyle='dashed', linewidth=1, label='Mean (Corrected)')\n",
        "plt.axvline(true_mean, color='green', linestyle='dashed', linewidth=1, label='True Mean')\n",
        "plt.axvline(true_mean + t_stat * np.std(scores, ddof=1) / np.sqrt(len(scores)), color='red', linestyle='dashed', linewidth=1, label='t-statistic (Original)')\n",
        "plt.axvline(true_mean + t2 * np.std(scores_corrected, ddof=1) / np.sqrt(len(scores_corrected)), color='purple', linestyle='dashed', linewidth=1, label='t-statistic (Corrected)')\n",
        "plt.xlabel('Scores')\n",
        "plt.ylabel('Frequency')\n",
        "plt.title('Distribution of Scores')\n",
        "plt.legend()\n",
        "plt.grid(True)\n",
        "plt.show()"
      ],
      "metadata": {
        "colab": {
          "base_uri": "https://localhost:8080/",
          "height": 487
        },
        "id": "7V-zeTbXtT53",
        "outputId": "29d89755-17f0-42a7-e5db-e94ab5284b07"
      },
      "execution_count": 68,
      "outputs": [
        {
          "output_type": "display_data",
          "data": {
            "text/plain": [
              "<Figure size 1000x500 with 1 Axes>"
            ],
            "image/png": "[encoded data removed]"
          },
          "metadata": {}
        }
      ]
    }
  ]
}