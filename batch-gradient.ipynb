{
 "cells": [
  {
   "cell_type": "code",
   "execution_count": 81,
   "metadata": {},
   "outputs": [],
   "source": [
    "from sklearn.datasets import load_diabetes\n",
    "import numpy as np\n",
    "from  sklearn.linear_model import LinearRegression\n",
    "from sklearn.metrics import r2_score\n",
    "from sklearn.model_selection import train_test_split"
   ]
  },
  {
   "cell_type": "code",
   "execution_count": 82,
   "id": "b9b4f44e",
   "metadata": {},
   "outputs": [],
   "source": [
    "x,y = load_diabetes(return_X_y=True)"
   ]
  },
  {
   "cell_type": "code",
   "execution_count": 83,
   "id": "59fc0466",
   "metadata": {},
   "outputs": [
    {
     "data": {
      "text/plain": [
       "(442,)"
      ]
     },
     "execution_count": 83,
     "metadata": {},
     "output_type": "execute_result"
    }
   ],
   "source": [
    "y.shape"
   ]
  },
  {
   "cell_type": "code",
   "execution_count": 84,
   "id": "98e0196f",
   "metadata": {},
   "outputs": [],
   "source": [
    "x_train,x_test,y_train,y_test = train_test_split(x,y,test_size=0.2,random_state=42)"
   ]
  },
  {
   "cell_type": "code",
   "execution_count": 85,
   "id": "37081e46",
   "metadata": {},
   "outputs": [
    {
     "data": {
      "text/plain": [
       "0.4526027629719196"
      ]
     },
     "execution_count": 85,
     "metadata": {},
     "output_type": "execute_result"
    }
   ],
   "source": [
    "lr= LinearRegression()\n",
    "lr.fit(x_train,y_train)\n",
    "lr.predict(x_test)\n",
    "r2_score(y_test,lr.predict(x_test))"
   ]
  },
  {
   "cell_type": "code",
   "execution_count": 86,
   "id": "c1ce3641",
   "metadata": {},
   "outputs": [
    {
     "name": "stdout",
     "output_type": "stream",
     "text": [
      "[  37.90402135 -241.96436231  542.42875852  347.70384391 -931.48884588\n",
      "  518.06227698  163.41998299  275.31790158  736.1988589    48.67065743]\n",
      "151.34560453985995\n"
     ]
    }
   ],
   "source": [
    "print(lr.coef_)\n",
    "print(lr.intercept_)"
   ]
  },
  {
   "cell_type": "code",
   "execution_count": 87,
   "id": "ff5606b6",
   "metadata": {},
   "outputs": [],
   "source": [
    "class GDregressor():\n",
    "    def __init__(self,lr=0.01,epochs=100):\n",
    "        self.coef_ = None\n",
    "        self.intercept_ = None\n",
    "        self.lr = lr\n",
    "        self.epochs = epochs\n",
    "    \n",
    "    def fit(self,x_train,y_train):\n",
    "        self.coef_ = np.ones(x.shape[1])\n",
    "        self.intercept_=0\n",
    "        for i in range(self.epochs):\n",
    "            y_pre = np.dot(x_train,self.coef_) + self.intercept_\n",
    "            intercept_der= -2*np.mean(y_train-y_pre)\n",
    "            self.intercept_= self.intercept_ - (self.lr * intercept_der)\n",
    "            coef_der = -2 * np.dot((y_train - y_pre),x_train)/x_train.shape[0]\n",
    "            self.coef_ = self.coef_ - (self.lr * coef_der)\n",
    "        print(self.coef_)\n",
    "        print(self.intercept_)\n",
    "    def predict(self,x):\n",
    "        return np.dot(x,self.coef_) + self.intercept_\n"
   ]
  },
  {
   "cell_type": "code",
   "execution_count": 88,
   "id": "c48b7f57",
   "metadata": {},
   "outputs": [
    {
     "name": "stdout",
     "output_type": "stream",
     "text": [
      "[  57.36300862  -43.56362668  270.30125536  192.94011506   27.79121735\n",
      "    2.40698174 -146.62310137  136.73992976  224.37340174  135.00101101]\n",
      "152.26172887146495\n"
     ]
    },
    {
     "data": {
      "text/plain": [
       "0.41666791172170736"
      ]
     },
     "execution_count": 88,
     "metadata": {},
     "output_type": "execute_result"
    }
   ],
   "source": [
    "gd= GDregressor(lr=0.1,epochs=1000)\n",
    "gd.fit(x_train,y_train)\n",
    "pre= gd.predict(x_test)\n",
    "r2_score(y_test,pre)"
   ]
  },
  {
   "cell_type": "code",
   "execution_count": 89,
   "id": "b8470911",
   "metadata": {},
   "outputs": [
    {
     "data": {
      "text/plain": [
       "152.26172887146495"
      ]
     },
     "execution_count": 89,
     "metadata": {},
     "output_type": "execute_result"
    }
   ],
   "source": [
    "gd.intercept_"
   ]
  },
  {
   "cell_type": "markdown",
   "id": "2023b194",
   "metadata": {},
   "source": [
    "## Stochastic gradient"
   ]
  },
  {
   "cell_type": "code",
   "execution_count": 90,
   "id": "88bff857",
   "metadata": {},
   "outputs": [],
   "source": [
    "class SGDregressor():\n",
    "    def __init__(self,lr=0.01,epochs=100):\n",
    "        self.coef_ = None\n",
    "        self.intercept_ = None\n",
    "        self.lr = lr\n",
    "        self.epochs = epochs\n",
    "    \n",
    "    def fit(self,x_train,y_train):\n",
    "        self.coef_ = np.ones(x.shape[1])\n",
    "        self.intercept_=0\n",
    "        for i in range(self.epochs):\n",
    "            for j in range(x_train.shape[0]):\n",
    "                idx= np.random.randint(x_train.shape[0])\n",
    "                y_pre= np.dot(x_train[idx],self.coef_) + self.intercept_\n",
    "                intercept_der= -2*(y_train[idx]-y_pre)\n",
    "                self.intercept_= self.intercept_ - (self.lr * intercept_der)\n",
    "\n",
    "                coef_der = -2 * np.dot((y_train[idx] - y_pre),x_train[idx])\n",
    "                self.coef_ = self.coef_ - (self.lr * coef_der)\n",
    "        print(self.coef_)\n",
    "        print(self.intercept_)\n",
    "    def predict(self,x):\n",
    "        return np.dot(x,self.coef_) + self.intercept_"
   ]
  },
  {
   "cell_type": "code",
   "execution_count": 91,
   "id": "1ade0660",
   "metadata": {},
   "outputs": [
    {
     "name": "stdout",
     "output_type": "stream",
     "text": [
      "[  33.79501842 -196.26351342  515.58489779  368.56014909 -223.76905217\n",
      "  -31.07656984 -165.58170142  188.60922278  466.03390178   65.99560073]\n",
      "125.16384428580216\n"
     ]
    },
    {
     "data": {
      "text/plain": [
       "0.28343804275897266"
      ]
     },
     "execution_count": 91,
     "metadata": {},
     "output_type": "execute_result"
    }
   ],
   "source": [
    "sgd= SGDregressor(lr=0.22,epochs=50)\n",
    "sgd.fit(x_train,y_train)\n",
    "pre= sgd.predict(x_test)\n",
    "r2_score(y_test,pre)"
   ]
  },
  {
   "cell_type": "code",
   "execution_count": 92,
   "id": "eee6549f",
   "metadata": {},
   "outputs": [
    {
     "data": {
      "text/plain": [
       "0.455208970142971"
      ]
     },
     "execution_count": 92,
     "metadata": {},
     "output_type": "execute_result"
    }
   ],
   "source": [
    "from sklearn.linear_model import SGDRegressor\n",
    "from sklearn.pipeline import make_pipeline\n",
    "from sklearn.preprocessing import StandardScaler\n",
    "reg = make_pipeline(StandardScaler(),SGDRegressor())\n",
    "reg.fit(x_train,y_train)\n",
    "pre= reg.predict(x_test)\n",
    "r2_score(y_test,pre)"
   ]
  },
  {
   "cell_type": "markdown",
   "id": "f4117afc",
   "metadata": {},
   "source": [
    "## Mini-batch gradient descent"
   ]
  },
  {
   "cell_type": "code",
   "execution_count": 93,
   "id": "f2f49ccb",
   "metadata": {},
   "outputs": [],
   "source": [
    "import random\n",
    "class MBGDregressor():\n",
    "    def __init__(self,batch_size,lr=0.01,epochs=100):\n",
    "        self.coef_ = None\n",
    "        self.intercept_ = None\n",
    "        self.lr = lr\n",
    "        self.batch_size = batch_size\n",
    "        self.epochs = epochs\n",
    "    \n",
    "    def fit(self,x_train,y_train):\n",
    "        self.coef_ = np.ones(x_train.shape[1])\n",
    "        self.intercept_=0\n",
    "        for i in range(self.epochs):\n",
    "            for j in range(int(x_train.shape[0]/self.batch_size)):\n",
    "                idx = random.sample(range(x_train.shape[0]),self.batch_size)\n",
    "                y_pre= np.dot(x_train[idx],self.coef_) + self.intercept_\n",
    "                intercept_der= -2*np.mean(y_train[idx]-y_pre)\n",
    "                self.intercept_= self.intercept_ - (self.lr * intercept_der)\n",
    "\n",
    "                coef_der = -2 * np.dot((y_train[idx] - y_pre),x_train[idx])\n",
    "                self.coef_ = self.coef_ - (self.lr * coef_der)\n",
    "        print(self.coef_)\n",
    "        print(self.intercept_)\n",
    "    def predict(self,x):\n",
    "        return np.dot(x,self.coef_) + self.intercept_"
   ]
  },
  {
   "cell_type": "code",
   "execution_count": 94,
   "id": "abdf7259",
   "metadata": {},
   "outputs": [
    {
     "name": "stdout",
     "output_type": "stream",
     "text": [
      "[  49.31231325 -166.4250745   464.07173651  292.47731916  -48.95181583\n",
      "  -99.35720565 -212.85708295  151.3567671   355.81052305  136.58278089]\n",
      "149.7653285694222\n"
     ]
    }
   ],
   "source": [
    "mbgr = MBGDregressor(batch_size=int(x_train.shape[0]/50),lr=0.01,epochs=100)\n",
    "mbgr.fit(x_train,y_train)"
   ]
  },
  {
   "cell_type": "code",
   "execution_count": 95,
   "id": "f046396c",
   "metadata": {},
   "outputs": [
    {
     "data": {
      "text/plain": [
       "0.4573420361975896"
      ]
     },
     "execution_count": 95,
     "metadata": {},
     "output_type": "execute_result"
    }
   ],
   "source": [
    "pre= mbgr.predict(x_test)\n",
    "r2_score(y_test,pre)"
   ]
  },
  {
   "cell_type": "markdown",
   "id": "bd3bb71b",
   "metadata": {},
   "source": [
    "#### USING SKLEARN"
   ]
  },
  {
   "cell_type": "code",
   "execution_count": 98,
   "id": "624b4604",
   "metadata": {},
   "outputs": [],
   "source": [
    "sgd = SGDRegressor(learning_rate='constant',eta0=0.2)\n",
    "batch_size = 35\n",
    "for i in range(100):\n",
    "    idx = random.sample(range(x_train.shape[0]),batch_size)\n",
    "    sgd.partial_fit(x_train[idx],y_train[idx])"
   ]
  },
  {
   "cell_type": "code",
   "execution_count": 99,
   "id": "7c368a2a",
   "metadata": {},
   "outputs": [
    {
     "data": {
      "text/plain": [
       "0.44142668648925243"
      ]
     },
     "execution_count": 99,
     "metadata": {},
     "output_type": "execute_result"
    }
   ],
   "source": [
    "pre= sgd.predict(x_test)\n",
    "r2_score(y_test,pre)"
   ]
  },
  {
   "cell_type": "code",
   "execution_count": null,
   "id": "76766497",
   "metadata": {},
   "outputs": [],
   "source": []
  }
 ],
 "metadata": {
  "kernelspec": {
   "display_name": "base",
   "language": "python",
   "name": "python3"
  },
  "language_info": {
   "codemirror_mode": {
    "name": "ipython",
    "version": 3
   },
   "file_extension": ".py",
   "mimetype": "text/x-python",
   "name": "python",
   "nbconvert_exporter": "python",
   "pygments_lexer": "ipython3",
   "version": "3.11.4"
  }
 },
 "nbformat": 4,
 "nbformat_minor": 5
}
