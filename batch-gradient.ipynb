{
 "cells": [
  {
   "cell_type": "code",
   "execution_count": 32,
   "metadata": {},
   "outputs": [],
   "source": [
    "from sklearn.datasets import load_diabetes\n",
    "import numpy as np\n",
    "from  sklearn.linear_model import LinearRegression\n",
    "from sklearn.metrics import r2_score\n",
    "from sklearn.model_selection import train_test_split"
   ]
  },
  {
   "cell_type": "code",
   "execution_count": 33,
   "id": "b9b4f44e",
   "metadata": {},
   "outputs": [],
   "source": [
    "x,y = load_diabetes(return_X_y=True)"
   ]
  },
  {
   "cell_type": "code",
   "execution_count": 34,
   "id": "59fc0466",
   "metadata": {},
   "outputs": [
    {
     "data": {
      "text/plain": [
       "(442,)"
      ]
     },
     "execution_count": 34,
     "metadata": {},
     "output_type": "execute_result"
    }
   ],
   "source": [
    "y.shape"
   ]
  },
  {
   "cell_type": "code",
   "execution_count": 35,
   "id": "98e0196f",
   "metadata": {},
   "outputs": [],
   "source": [
    "x_train,x_test,y_train,y_test = train_test_split(x,y,test_size=0.2,random_state=42)"
   ]
  },
  {
   "cell_type": "code",
   "execution_count": 36,
   "id": "37081e46",
   "metadata": {},
   "outputs": [
    {
     "data": {
      "text/plain": [
       "0.4526027629719196"
      ]
     },
     "execution_count": 36,
     "metadata": {},
     "output_type": "execute_result"
    }
   ],
   "source": [
    "lr= LinearRegression()\n",
    "lr.fit(x_train,y_train)\n",
    "lr.predict(x_test)\n",
    "r2_score(y_test,lr.predict(x_test))"
   ]
  },
  {
   "cell_type": "code",
   "execution_count": 37,
   "id": "c1ce3641",
   "metadata": {},
   "outputs": [
    {
     "name": "stdout",
     "output_type": "stream",
     "text": [
      "[  37.90402135 -241.96436231  542.42875852  347.70384391 -931.48884588\n",
      "  518.06227698  163.41998299  275.31790158  736.1988589    48.67065743]\n",
      "151.34560453985995\n"
     ]
    }
   ],
   "source": [
    "print(lr.coef_)\n",
    "print(lr.intercept_)"
   ]
  },
  {
   "cell_type": "code",
   "execution_count": 38,
   "id": "ff5606b6",
   "metadata": {},
   "outputs": [],
   "source": [
    "class GDregressor():\n",
    "    def __init__(self,lr=0.01,epochs=100):\n",
    "        self.coef_ = None\n",
    "        self.intercept_ = None\n",
    "        self.lr = lr\n",
    "        self.epochs = epochs\n",
    "    \n",
    "    def fit(self,x_train,y_train):\n",
    "        self.coef_ = np.ones(x.shape[1])\n",
    "        self.intercept_=0\n",
    "        for i in range(self.epochs):\n",
    "            y_pre = np.dot(x_train,self.coef_) + self.intercept_\n",
    "            intercept_der= -2*np.mean(y_train-y_pre)\n",
    "            self.intercept_= self.intercept_ - (self.lr * intercept_der)\n",
    "            coef_der = -2 * np.dot((y_train - y_pre),x_train)/x_train.shape[0]\n",
    "            self.coef_ = self.coef_ - (self.lr * coef_der)\n",
    "        print(self.coef_)\n",
    "        print(self.intercept_)\n",
    "    def predict(self,x):\n",
    "        return np.dot(x,self.coef_) + self.intercept_\n"
   ]
  },
  {
   "cell_type": "code",
   "execution_count": 41,
   "id": "c48b7f57",
   "metadata": {},
   "outputs": [
    {
     "name": "stdout",
     "output_type": "stream",
     "text": [
      "[  57.36300862  -43.56362668  270.30125536  192.94011506   27.79121735\n",
      "    2.40698174 -146.62310137  136.73992976  224.37340174  135.00101101]\n",
      "152.26172887146495\n"
     ]
    },
    {
     "data": {
      "text/plain": [
       "0.41666791172170736"
      ]
     },
     "execution_count": 41,
     "metadata": {},
     "output_type": "execute_result"
    }
   ],
   "source": [
    "gd= GDregressor(lr=0.1,epochs=1000)\n",
    "gd.fit(x_train,y_train)\n",
    "pre= gd.predict(x_test)\n",
    "r2_score(y_test,pre)"
   ]
  },
  {
   "cell_type": "code",
   "execution_count": 42,
   "id": "b8470911",
   "metadata": {},
   "outputs": [
    {
     "data": {
      "text/plain": [
       "152.26172887146495"
      ]
     },
     "execution_count": 42,
     "metadata": {},
     "output_type": "execute_result"
    }
   ],
   "source": [
    "gd.intercept_"
   ]
  },
  {
   "cell_type": "markdown",
   "id": "2023b194",
   "metadata": {},
   "source": [
    "## Stochastic gradient"
   ]
  },
  {
   "cell_type": "code",
   "execution_count": 43,
   "id": "88bff857",
   "metadata": {},
   "outputs": [],
   "source": [
    "class SGDregressor():\n",
    "    def __init__(self,lr=0.01,epochs=100):\n",
    "        self.coef_ = None\n",
    "        self.intercept_ = None\n",
    "        self.lr = lr\n",
    "        self.epochs = epochs\n",
    "    \n",
    "    def fit(self,x_train,y_train):\n",
    "        self.coef_ = np.ones(x.shape[1])\n",
    "        self.intercept_=0\n",
    "        for i in range(self.epochs):\n",
    "            for j in range(x_train.shape[0]):\n",
    "                idx= np.random.randint(x_train.shape[0])\n",
    "                y_pre= np.dot(x_train[idx],self.coef_) + self.intercept_\n",
    "                intercept_der= -2*(y_train[idx]-y_pre)\n",
    "                self.intercept_= self.intercept_ - (self.lr * intercept_der)\n",
    "\n",
    "                coef_der = -2 * np.dot((y_train[idx] - y_pre),x_train[idx])\n",
    "                self.coef_ = self.coef_ - (self.lr * coef_der)\n",
    "        print(self.coef_)\n",
    "        print(self.intercept_)\n",
    "    def predict(self,x):\n",
    "        return np.dot(x,self.coef_) + self.intercept_"
   ]
  },
  {
   "cell_type": "code",
   "execution_count": 55,
   "id": "1ade0660",
   "metadata": {},
   "outputs": [
    {
     "name": "stdout",
     "output_type": "stream",
     "text": [
      "[  64.83687959 -242.02199517  536.99751375  344.0602079  -195.45633006\n",
      "  -46.12893943 -159.52493263  152.27231088  421.87302713   61.52016554]\n",
      "148.5294938642091\n"
     ]
    },
    {
     "data": {
      "text/plain": [
       "0.44617062757957626"
      ]
     },
     "execution_count": 55,
     "metadata": {},
     "output_type": "execute_result"
    }
   ],
   "source": [
    "sgd= SGDregressor(lr=0.22,epochs=50)\n",
    "sgd.fit(x_train,y_train)\n",
    "pre= sgd.predict(x_test)\n",
    "r2_score(y_test,pre)"
   ]
  },
  {
   "cell_type": "code",
   "execution_count": null,
   "id": "79dc3905",
   "metadata": {},
   "outputs": [],
   "source": []
  },
  {
   "cell_type": "code",
   "execution_count": null,
   "id": "f2f49ccb",
   "metadata": {},
   "outputs": [],
   "source": []
  }
 ],
 "metadata": {
  "kernelspec": {
   "display_name": "base",
   "language": "python",
   "name": "python3"
  },
  "language_info": {
   "codemirror_mode": {
    "name": "ipython",
    "version": 3
   },
   "file_extension": ".py",
   "mimetype": "text/x-python",
   "name": "python",
   "nbconvert_exporter": "python",
   "pygments_lexer": "ipython3",
   "version": "3.11.4"
  }
 },
 "nbformat": 4,
 "nbformat_minor": 5
}
