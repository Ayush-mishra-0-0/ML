{
  "nbformat": 4,
  "nbformat_minor": 0,
  "metadata": {
    "colab": {
      "provenance": [],
      "authorship_tag": "ABX9TyMsrBoAXyADg58Mqr7+ArVz",
      "include_colab_link": true
    },
    "kernelspec": {
      "name": "python3",
      "display_name": "Python 3"
    },
    "language_info": {
      "name": "python"
    }
  },
  "cells": [
    {
      "cell_type": "markdown",
      "metadata": {
        "id": "view-in-github",
        "colab_type": "text"
      },
      "source": [
        "<a href=\"https://colab.research.google.com/github/Ayush-mishra-0-0/ML/blob/main/colors.ipynb\" target=\"_parent\"><img src=\"https://colab.research.google.com/assets/colab-badge.svg\" alt=\"Open In Colab\"/></a>"
      ]
    },
    {
      "cell_type": "markdown",
      "source": [
        "<font color=\"#c5b0d5\">Part-1:</font>  \n",
        "<font color=\"#9575cd\">Part-2:</font>  \n",
        "<font color=\"#7e57c2\">Part-3:</font>  \n",
        "<font color=\"#9467bd\">Part-4:</font>  \n",
        "<font color=\"#ffdd74\">Part-5:</font>  \n",
        "<font color=\"#ffeb3b\">Part-6:</font>  \n",
        "<font color=\"#fbc02d\">Part-7:</font>  \n",
        "<font color=\"#f9a825\">Part-8:</font>  \n",
        "<font color=\"#757575\">Part-9:</font>  \n",
        "<font color=\"#bdbdbd\">Part-10:</font>  \n",
        "<font color=\"#a0a0a0\">Part-11:</font>  \n",
        "<font color=\"#9e9e9e\">Part-12:</font>  \n",
        "<font color=\"#ff7f0e\">Part-13:</font>  \n",
        "<font color=\"#ffbb78\">Part-14:</font>  \n",
        "<font color=\"#ffa726\">Part-15:</font>  \n",
        "<font color=\"#ff9800\">Part-16:</font>  \n",
        "<font color=\"#2ca02c\">Part-17:</font>  \n",
        "<font color=\"#98df8a\">Part-18:</font>  \n",
        "<font color=\"#66bb6a\">Part-19:</font>  \n",
        "<font color=\"#43a047\">Part-20:</font>  \n",
        "<font color=\"#1f77b4\">Part-21:</font>  \n",
        "<font color=\"#aec7e8\">Part-22:</font>  \n",
        "<font color=\"#7fb4e8\">Part-23:</font>  \n",
        "<font color=\"#4c78a8\">Part-24:</font>  \n",
        "<font color=\"#d62728\">Part-25:</font>  \n",
        "<font color=\"#ff9896\">Part-26:</font>  \n",
        "<font color=\"#ef5350\">Part-27:</font>  \n",
        "<font color=\"#e57373\">Part-28:</font>  \n",
        "<font color=\"#e91e63\">Part-29:</font>  \n",
        "<font color=\"#f06292\">Part-30:</font>  \n",
        "<font color=\"#ec407a\">Part-31:</font>  \n",
        "<font color=\"#f48fb1\">Part-32:</font>  \n",
        "<font color=\"#ff4081\">Part-33:</font>  \n",
        "<font color=\"#f50057\">Part-34:</font>  \n",
        "<font color=\"#d81b60\">Part-35:</font>  \n",
        "<font color=\"#e57373\">Part-36:</font>  \n",
        "<font color=\"#ff007f\">Part-37:</font>  \n",
        "<font color=\"#ff66cc\">Part-38:</font>  \n",
        "<font color=\"#ff00ff\">Part-39:</font>  \n",
        "<font color=\"#ff69b4\">Part-40:</font>"
      ],
      "metadata": {
        "id": "ZZlAfIzbBMjo"
      }
    }
  ]
}