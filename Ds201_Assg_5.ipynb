{
  "nbformat": 4,
  "nbformat_minor": 0,
  "metadata": {
    "colab": {
      "provenance": [],
      "toc_visible": true,
      "authorship_tag": "ABX9TyNwRJLMCSI4cVbHicplrPPE",
      "include_colab_link": true
    },
    "kernelspec": {
      "name": "python3",
      "display_name": "Python 3"
    },
    "language_info": {
      "name": "python"
    }
  },
  "cells": [
    {
      "cell_type": "markdown",
      "metadata": {
        "id": "view-in-github",
        "colab_type": "text"
      },
      "source": [
        "<a href=\"https://colab.research.google.com/github/Ayush-mishra-0-0/ML/blob/main/Ds201_Assg_5.ipynb\" target=\"_parent\"><img src=\"https://colab.research.google.com/assets/colab-badge.svg\" alt=\"Open In Colab\"/></a>"
      ]
    },
    {
      "cell_type": "markdown",
      "source": [
        "# Assignment-5"
      ],
      "metadata": {
        "id": "a6ZiyNsd2HVh"
      }
    },
    {
      "cell_type": "markdown",
      "source": [
        "[Assignment link](https://cdn-uploads.piazza.com/paste/l6w1bx8r3hy6df/99562f551574094576c714e25e05eaa14695385a762ff409919c3ec131d8f778/Assignment_5_(2).pdf)  \n",
        "# <FONT color=\"pink\">QUESTION-1</FONT>  \n"
      ],
      "metadata": {
        "id": "KxKdhIWG1s7j"
      }
    },
    {
      "cell_type": "markdown",
      "source": [
        "## Part-A ▶ Calculate least squares estimator\n",
        "Function to create calculate `least squares estimator`  \n",
        "\\text{Hello world}"
      ],
      "metadata": {
        "id": "j3m8W4Ah2U5q"
      }
    },
    {
      "cell_type": "code",
      "execution_count": 1,
      "metadata": {
        "id": "w5DjQ-U90ESj"
      },
      "outputs": [],
      "source": [
        "import pandas as pd\n",
        "import numpy as np\n",
        "import matplotlib.pyplot as plt\n",
        "import plotly.express as px\n",
        "import plotly.graph_objects as go"
      ]
    },
    {
      "cell_type": "code",
      "source": [
        "import numpy as np\n",
        "\n",
        "def calculate_least_squares_estimator(x, y):\n",
        "    n = len(x)\n",
        "    mean_x = np.mean(x)\n",
        "    mean_y = np.mean(y)\n",
        "\n",
        "    numerator = np.sum((x - mean_x) * (y - mean_y))\n",
        "    denominator = np.sum((x - mean_x) ** 2)\n",
        "\n",
        "    slope = numerator / denominator\n",
        "    intercept = mean_y - slope * mean_x\n",
        "\n",
        "    return slope, intercept\n",
        "\n",
        "\n",
        "\n",
        "# Sample data\n",
        "relative_humidity = np.array([46, 53, 29, 61, 36, 39, 47, 49, 52, 38, 55, 32, 57, 54, 44])\n",
        "moisture_content = np.array([12, 15, 7, 17, 10, 11, 11, 12, 14, 9, 16, 8, 18, 14, 12])\n",
        "\n",
        "slope, intercept = calculate_least_squares_estimator(relative_humidity, moisture_content)\n",
        "\n",
        "\n",
        "print(\"Slope:\", slope)\n",
        "print(\"Intercept:\", intercept)\n"
      ],
      "metadata": {
        "colab": {
          "base_uri": "https://localhost:8080/"
        },
        "id": "3vCZdy5Y1pqG",
        "outputId": "8ceda27c-8f65-4757-ea92-2a5420896171"
      },
      "execution_count": 2,
      "outputs": [
        {
          "output_type": "stream",
          "name": "stdout",
          "text": [
            "Slope: 0.3232035618140402\n",
            "Intercept: -2.5104576516877213\n"
          ]
        }
      ]
    },
    {
      "cell_type": "markdown",
      "source": [
        "## Part-B ▶ Interpret regression line"
      ],
      "metadata": {
        "id": "-ibcBKd-96D6"
      }
    },
    {
      "cell_type": "code",
      "source": [
        "def interpret_regression_line(slope, intercept):\n",
        "    if slope > 0:\n",
        "        interpretation = \"There is a positive relationship between relative humidity and moisture content. As relative humidity increases, the moisture content of the substrates also tends to increase.\"\n",
        "    elif slope < 0:\n",
        "        interpretation = \"There is a negative relationship between relative humidity and moisture content. As relative humidity increases, the moisture content of the substrates tends to decrease.\"\n",
        "    else:\n",
        "        interpretation = \"There is no significant relationship between relative humidity and moisture content.\"\n",
        "\n",
        "    return interpretation"
      ],
      "metadata": {
        "id": "TjrEIHRX9913"
      },
      "execution_count": 3,
      "outputs": []
    },
    {
      "cell_type": "code",
      "source": [
        "interpretation = interpret_regression_line(slope, intercept)\n",
        "print(\"Interpretation:\", interpretation)"
      ],
      "metadata": {
        "colab": {
          "base_uri": "https://localhost:8080/"
        },
        "id": "zxftuxWf9_4F",
        "outputId": "9047bc8d-0480-4992-b4e8-07d02695130a"
      },
      "execution_count": 4,
      "outputs": [
        {
          "output_type": "stream",
          "name": "stdout",
          "text": [
            "Interpretation: There is a positive relationship between relative humidity and moisture content. As relative humidity increases, the moisture content of the substrates also tends to increase.\n"
          ]
        }
      ]
    },
    {
      "cell_type": "markdown",
      "source": [
        "## Part-C ▶ Predict Moisture Content"
      ],
      "metadata": {
        "id": "7alLyo8f9xE3"
      }
    },
    {
      "cell_type": "code",
      "source": [
        "def predict_moisture_content(relative_humidity, slope, intercept):\n",
        "    predicted_moisture_content = slope * relative_humidity + intercept\n",
        "    return predicted_moisture_content"
      ],
      "metadata": {
        "id": "_o8FGiyX9hyT"
      },
      "execution_count": 5,
      "outputs": []
    },
    {
      "cell_type": "markdown",
      "source": [
        "## Part-D ▶  Plot regression line"
      ],
      "metadata": {
        "id": "ZpLr3neU_4YK"
      }
    },
    {
      "cell_type": "code",
      "source": [
        "def plot_regression_line(relative_humidity, moisture_content, slope, intercept):\n",
        "    fig = go.Figure()\n",
        "\n",
        "    # Scatter plot\n",
        "    fig.add_trace(go.Scatter(x=relative_humidity, y=moisture_content, mode='markers', name='Data Points'))\n",
        "\n",
        "    # Regression line\n",
        "    x_range = np.linspace(min(relative_humidity), max(relative_humidity), 100)\n",
        "    y_range = slope * x_range + intercept\n",
        "    fig.add_trace(go.Scatter(x=x_range, y=y_range, mode='lines', name='Regression Line'))\n",
        "\n",
        "    fig.update_layout(\n",
        "        title=\"Regression Analysis\",\n",
        "        xaxis_title=\"Relative Humidity (%)\",\n",
        "        yaxis_title=\"Moisture Content (%)\",\n",
        "        legend=dict(x=0, y=1, traceorder=\"normal\"),\n",
        "        margin=dict(l=0, r=0, t=30, b=0)\n",
        "    )\n",
        "\n",
        "    fig.show()\n",
        "plot_regression_line(relative_humidity,moisture_content, slope, intercept)"
      ],
      "metadata": {
        "colab": {
          "base_uri": "https://localhost:8080/",
          "height": 542
        },
        "id": "IZxWe9Kl-jdt",
        "outputId": "e3c23b14-04a5-45d3-ceff-090c06b15d1a"
      },
      "execution_count": 6,
      "outputs": [
        {
          "output_type": "display_data",
          "data": {
            "text/html": [
              "<html>\n",
              "<head><meta charset=\"utf-8\" /></head>\n",
              "<body>\n",
              "    <div>            <script src=\"https://cdnjs.cloudflare.com/ajax/libs/mathjax/2.7.5/MathJax.js?config=TeX-AMS-MML_SVG\"></script><script type=\"text/javascript\">if (window.MathJax && window.MathJax.Hub && window.MathJax.Hub.Config) {window.MathJax.Hub.Config({SVG: {font: \"STIX-Web\"}});}</script>                <script type=\"text/javascript\">window.PlotlyConfig = {MathJaxConfig: 'local'};</script>\n",
              "        <script charset=\"utf-8\" src=\"https://cdn.plot.ly/plotly-2.24.1.min.js\"></script>                <div id=\"226f1940-135f-4333-af63-60636f126ecd\" class=\"plotly-graph-div\" style=\"height:525px; width:100%;\"></div>            <script type=\"text/javascript\">                                    window.PLOTLYENV=window.PLOTLYENV || {};                                    if (document.getElementById(\"226f1940-135f-4333-af63-60636f126ecd\")) {                    Plotly.newPlot(                        \"226f1940-135f-4333-af63-60636f126ecd\",                        [{\"mode\":\"markers\",\"name\":\"Data Points\",\"x\":[46,53,29,61,36,39,47,49,52,38,55,32,57,54,44],\"y\":[12,15,7,17,10,11,11,12,14,9,16,8,18,14,12],\"type\":\"scatter\"},{\"mode\":\"lines\",\"name\":\"Regression Line\",\"x\":[29.0,29.32323232323232,29.646464646464647,29.96969696969697,30.292929292929294,30.616161616161616,30.939393939393938,31.262626262626263,31.585858585858585,31.90909090909091,32.23232323232323,32.55555555555556,32.878787878787875,33.2020202020202,33.525252525252526,33.84848484848485,34.17171717171717,34.494949494949495,34.81818181818182,35.141414141414145,35.464646464646464,35.78787878787879,36.111111111111114,36.43434343434343,36.75757575757576,37.08080808080808,37.4040404040404,37.72727272727273,38.05050505050505,38.37373737373737,38.696969696969695,39.02020202020202,39.343434343434346,39.66666666666667,39.98989898989899,40.313131313131315,40.63636363636364,40.95959595959596,41.282828282828284,41.60606060606061,41.92929292929293,42.25252525252525,42.57575757575758,42.898989898989896,43.22222222222222,43.54545454545455,43.86868686868687,44.1919191919192,44.515151515151516,44.83838383838384,45.161616161616166,45.484848484848484,45.80808080808081,46.131313131313135,46.45454545454545,46.77777777777778,47.101010101010104,47.42424242424242,47.74747474747475,48.07070707070707,48.39393939393939,48.71717171717172,49.04040404040404,49.36363636363637,49.68686868686869,50.01010101010101,50.333333333333336,50.65656565656566,50.97979797979798,51.303030303030305,51.62626262626263,51.94949494949495,52.27272727272727,52.5959595959596,52.91919191919192,53.24242424242425,53.56565656565657,53.888888888888886,54.21212121212122,54.535353535353536,54.85858585858586,55.18181818181819,55.505050505050505,55.82828282828283,56.151515151515156,56.474747474747474,56.7979797979798,57.121212121212125,57.44444444444444,57.767676767676775,58.09090909090909,58.41414141414141,58.737373737373744,59.06060606060606,59.38383838383839,59.70707070707071,60.03030303030303,60.35353535353536,60.67676767676768,61.0],\"y\":[6.862445640919445,6.966915479081559,7.0713853172436725,7.175855155405786,7.2803249935679,7.384794831730014,7.489264669892128,7.593734508054242,7.698204346216356,7.802674184378471,7.907144022540585,8.011613860702699,8.116083698864811,8.220553537026927,8.32502337518904,8.429493213351156,8.533963051513268,8.638432889675382,8.742902727837498,8.847372565999612,8.951842404161724,9.05631224232384,9.160782080485953,9.265251918648065,9.369721756810181,9.474191594972295,9.578661433134407,9.683131271296523,9.787601109458636,9.89207094762075,9.996540785782864,10.101010623944978,10.205480462107094,10.309950300269207,10.414420138431321,10.518889976593435,10.623359814755549,10.727829652917663,10.832299491079777,10.936769329241892,11.041239167404004,11.145709005566118,11.250178843728234,11.354648681890346,11.45911852005246,11.563588358214576,11.66805819637669,11.772528034538805,11.876997872700917,11.981467710863031,12.085937549025147,12.190407387187259,12.294877225349373,12.399347063511488,12.5038169016736,12.608286739835714,12.71275657799783,12.817226416159942,12.921696254322056,13.026166092484171,13.130635930646283,13.2351057688084,13.339575606970513,13.444045445132627,13.548515283294742,13.652985121456856,13.75745495961897,13.861924797781084,13.966394635943198,14.070864474105312,14.175334312267426,14.27980415042954,14.384273988591653,14.488743826753767,14.593213664915881,14.697683503077998,14.802153341240109,14.906623179402223,15.01109301756434,15.11556285572645,15.220032693888564,15.324502532050682,15.428972370212792,15.533442208374906,15.637912046537023,15.742381884699133,15.84685172286125,15.951321561023365,16.055791399185473,16.16026123734759,16.264731075509708,16.36920091367182,16.473670751833936,16.578140589996046,16.682610428158164,16.787080266320274,16.89155010448239,16.9960199426445,17.10048978080662,17.20495961896873],\"type\":\"scatter\"}],                        {\"template\":{\"data\":{\"histogram2dcontour\":[{\"type\":\"histogram2dcontour\",\"colorbar\":{\"outlinewidth\":0,\"ticks\":\"\"},\"colorscale\":[[0.0,\"#0d0887\"],[0.1111111111111111,\"#46039f\"],[0.2222222222222222,\"#7201a8\"],[0.3333333333333333,\"#9c179e\"],[0.4444444444444444,\"#bd3786\"],[0.5555555555555556,\"#d8576b\"],[0.6666666666666666,\"#ed7953\"],[0.7777777777777778,\"#fb9f3a\"],[0.8888888888888888,\"#fdca26\"],[1.0,\"#f0f921\"]]}],\"choropleth\":[{\"type\":\"choropleth\",\"colorbar\":{\"outlinewidth\":0,\"ticks\":\"\"}}],\"histogram2d\":[{\"type\":\"histogram2d\",\"colorbar\":{\"outlinewidth\":0,\"ticks\":\"\"},\"colorscale\":[[0.0,\"#0d0887\"],[0.1111111111111111,\"#46039f\"],[0.2222222222222222,\"#7201a8\"],[0.3333333333333333,\"#9c179e\"],[0.4444444444444444,\"#bd3786\"],[0.5555555555555556,\"#d8576b\"],[0.6666666666666666,\"#ed7953\"],[0.7777777777777778,\"#fb9f3a\"],[0.8888888888888888,\"#fdca26\"],[1.0,\"#f0f921\"]]}],\"heatmap\":[{\"type\":\"heatmap\",\"colorbar\":{\"outlinewidth\":0,\"ticks\":\"\"},\"colorscale\":[[0.0,\"#0d0887\"],[0.1111111111111111,\"#46039f\"],[0.2222222222222222,\"#7201a8\"],[0.3333333333333333,\"#9c179e\"],[0.4444444444444444,\"#bd3786\"],[0.5555555555555556,\"#d8576b\"],[0.6666666666666666,\"#ed7953\"],[0.7777777777777778,\"#fb9f3a\"],[0.8888888888888888,\"#fdca26\"],[1.0,\"#f0f921\"]]}],\"heatmapgl\":[{\"type\":\"heatmapgl\",\"colorbar\":{\"outlinewidth\":0,\"ticks\":\"\"},\"colorscale\":[[0.0,\"#0d0887\"],[0.1111111111111111,\"#46039f\"],[0.2222222222222222,\"#7201a8\"],[0.3333333333333333,\"#9c179e\"],[0.4444444444444444,\"#bd3786\"],[0.5555555555555556,\"#d8576b\"],[0.6666666666666666,\"#ed7953\"],[0.7777777777777778,\"#fb9f3a\"],[0.8888888888888888,\"#fdca26\"],[1.0,\"#f0f921\"]]}],\"contourcarpet\":[{\"type\":\"contourcarpet\",\"colorbar\":{\"outlinewidth\":0,\"ticks\":\"\"}}],\"contour\":[{\"type\":\"contour\",\"colorbar\":{\"outlinewidth\":0,\"ticks\":\"\"},\"colorscale\":[[0.0,\"#0d0887\"],[0.1111111111111111,\"#46039f\"],[0.2222222222222222,\"#7201a8\"],[0.3333333333333333,\"#9c179e\"],[0.4444444444444444,\"#bd3786\"],[0.5555555555555556,\"#d8576b\"],[0.6666666666666666,\"#ed7953\"],[0.7777777777777778,\"#fb9f3a\"],[0.8888888888888888,\"#fdca26\"],[1.0,\"#f0f921\"]]}],\"surface\":[{\"type\":\"surface\",\"colorbar\":{\"outlinewidth\":0,\"ticks\":\"\"},\"colorscale\":[[0.0,\"#0d0887\"],[0.1111111111111111,\"#46039f\"],[0.2222222222222222,\"#7201a8\"],[0.3333333333333333,\"#9c179e\"],[0.4444444444444444,\"#bd3786\"],[0.5555555555555556,\"#d8576b\"],[0.6666666666666666,\"#ed7953\"],[0.7777777777777778,\"#fb9f3a\"],[0.8888888888888888,\"#fdca26\"],[1.0,\"#f0f921\"]]}],\"mesh3d\":[{\"type\":\"mesh3d\",\"colorbar\":{\"outlinewidth\":0,\"ticks\":\"\"}}],\"scatter\":[{\"fillpattern\":{\"fillmode\":\"overlay\",\"size\":10,\"solidity\":0.2},\"type\":\"scatter\"}],\"parcoords\":[{\"type\":\"parcoords\",\"line\":{\"colorbar\":{\"outlinewidth\":0,\"ticks\":\"\"}}}],\"scatterpolargl\":[{\"type\":\"scatterpolargl\",\"marker\":{\"colorbar\":{\"outlinewidth\":0,\"ticks\":\"\"}}}],\"bar\":[{\"error_x\":{\"color\":\"#2a3f5f\"},\"error_y\":{\"color\":\"#2a3f5f\"},\"marker\":{\"line\":{\"color\":\"#E5ECF6\",\"width\":0.5},\"pattern\":{\"fillmode\":\"overlay\",\"size\":10,\"solidity\":0.2}},\"type\":\"bar\"}],\"scattergeo\":[{\"type\":\"scattergeo\",\"marker\":{\"colorbar\":{\"outlinewidth\":0,\"ticks\":\"\"}}}],\"scatterpolar\":[{\"type\":\"scatterpolar\",\"marker\":{\"colorbar\":{\"outlinewidth\":0,\"ticks\":\"\"}}}],\"histogram\":[{\"marker\":{\"pattern\":{\"fillmode\":\"overlay\",\"size\":10,\"solidity\":0.2}},\"type\":\"histogram\"}],\"scattergl\":[{\"type\":\"scattergl\",\"marker\":{\"colorbar\":{\"outlinewidth\":0,\"ticks\":\"\"}}}],\"scatter3d\":[{\"type\":\"scatter3d\",\"line\":{\"colorbar\":{\"outlinewidth\":0,\"ticks\":\"\"}},\"marker\":{\"colorbar\":{\"outlinewidth\":0,\"ticks\":\"\"}}}],\"scattermapbox\":[{\"type\":\"scattermapbox\",\"marker\":{\"colorbar\":{\"outlinewidth\":0,\"ticks\":\"\"}}}],\"scatterternary\":[{\"type\":\"scatterternary\",\"marker\":{\"colorbar\":{\"outlinewidth\":0,\"ticks\":\"\"}}}],\"scattercarpet\":[{\"type\":\"scattercarpet\",\"marker\":{\"colorbar\":{\"outlinewidth\":0,\"ticks\":\"\"}}}],\"carpet\":[{\"aaxis\":{\"endlinecolor\":\"#2a3f5f\",\"gridcolor\":\"white\",\"linecolor\":\"white\",\"minorgridcolor\":\"white\",\"startlinecolor\":\"#2a3f5f\"},\"baxis\":{\"endlinecolor\":\"#2a3f5f\",\"gridcolor\":\"white\",\"linecolor\":\"white\",\"minorgridcolor\":\"white\",\"startlinecolor\":\"#2a3f5f\"},\"type\":\"carpet\"}],\"table\":[{\"cells\":{\"fill\":{\"color\":\"#EBF0F8\"},\"line\":{\"color\":\"white\"}},\"header\":{\"fill\":{\"color\":\"#C8D4E3\"},\"line\":{\"color\":\"white\"}},\"type\":\"table\"}],\"barpolar\":[{\"marker\":{\"line\":{\"color\":\"#E5ECF6\",\"width\":0.5},\"pattern\":{\"fillmode\":\"overlay\",\"size\":10,\"solidity\":0.2}},\"type\":\"barpolar\"}],\"pie\":[{\"automargin\":true,\"type\":\"pie\"}]},\"layout\":{\"autotypenumbers\":\"strict\",\"colorway\":[\"#636efa\",\"#EF553B\",\"#00cc96\",\"#ab63fa\",\"#FFA15A\",\"#19d3f3\",\"#FF6692\",\"#B6E880\",\"#FF97FF\",\"#FECB52\"],\"font\":{\"color\":\"#2a3f5f\"},\"hovermode\":\"closest\",\"hoverlabel\":{\"align\":\"left\"},\"paper_bgcolor\":\"white\",\"plot_bgcolor\":\"#E5ECF6\",\"polar\":{\"bgcolor\":\"#E5ECF6\",\"angularaxis\":{\"gridcolor\":\"white\",\"linecolor\":\"white\",\"ticks\":\"\"},\"radialaxis\":{\"gridcolor\":\"white\",\"linecolor\":\"white\",\"ticks\":\"\"}},\"ternary\":{\"bgcolor\":\"#E5ECF6\",\"aaxis\":{\"gridcolor\":\"white\",\"linecolor\":\"white\",\"ticks\":\"\"},\"baxis\":{\"gridcolor\":\"white\",\"linecolor\":\"white\",\"ticks\":\"\"},\"caxis\":{\"gridcolor\":\"white\",\"linecolor\":\"white\",\"ticks\":\"\"}},\"coloraxis\":{\"colorbar\":{\"outlinewidth\":0,\"ticks\":\"\"}},\"colorscale\":{\"sequential\":[[0.0,\"#0d0887\"],[0.1111111111111111,\"#46039f\"],[0.2222222222222222,\"#7201a8\"],[0.3333333333333333,\"#9c179e\"],[0.4444444444444444,\"#bd3786\"],[0.5555555555555556,\"#d8576b\"],[0.6666666666666666,\"#ed7953\"],[0.7777777777777778,\"#fb9f3a\"],[0.8888888888888888,\"#fdca26\"],[1.0,\"#f0f921\"]],\"sequentialminus\":[[0.0,\"#0d0887\"],[0.1111111111111111,\"#46039f\"],[0.2222222222222222,\"#7201a8\"],[0.3333333333333333,\"#9c179e\"],[0.4444444444444444,\"#bd3786\"],[0.5555555555555556,\"#d8576b\"],[0.6666666666666666,\"#ed7953\"],[0.7777777777777778,\"#fb9f3a\"],[0.8888888888888888,\"#fdca26\"],[1.0,\"#f0f921\"]],\"diverging\":[[0,\"#8e0152\"],[0.1,\"#c51b7d\"],[0.2,\"#de77ae\"],[0.3,\"#f1b6da\"],[0.4,\"#fde0ef\"],[0.5,\"#f7f7f7\"],[0.6,\"#e6f5d0\"],[0.7,\"#b8e186\"],[0.8,\"#7fbc41\"],[0.9,\"#4d9221\"],[1,\"#276419\"]]},\"xaxis\":{\"gridcolor\":\"white\",\"linecolor\":\"white\",\"ticks\":\"\",\"title\":{\"standoff\":15},\"zerolinecolor\":\"white\",\"automargin\":true,\"zerolinewidth\":2},\"yaxis\":{\"gridcolor\":\"white\",\"linecolor\":\"white\",\"ticks\":\"\",\"title\":{\"standoff\":15},\"zerolinecolor\":\"white\",\"automargin\":true,\"zerolinewidth\":2},\"scene\":{\"xaxis\":{\"backgroundcolor\":\"#E5ECF6\",\"gridcolor\":\"white\",\"linecolor\":\"white\",\"showbackground\":true,\"ticks\":\"\",\"zerolinecolor\":\"white\",\"gridwidth\":2},\"yaxis\":{\"backgroundcolor\":\"#E5ECF6\",\"gridcolor\":\"white\",\"linecolor\":\"white\",\"showbackground\":true,\"ticks\":\"\",\"zerolinecolor\":\"white\",\"gridwidth\":2},\"zaxis\":{\"backgroundcolor\":\"#E5ECF6\",\"gridcolor\":\"white\",\"linecolor\":\"white\",\"showbackground\":true,\"ticks\":\"\",\"zerolinecolor\":\"white\",\"gridwidth\":2}},\"shapedefaults\":{\"line\":{\"color\":\"#2a3f5f\"}},\"annotationdefaults\":{\"arrowcolor\":\"#2a3f5f\",\"arrowhead\":0,\"arrowwidth\":1},\"geo\":{\"bgcolor\":\"white\",\"landcolor\":\"#E5ECF6\",\"subunitcolor\":\"white\",\"showland\":true,\"showlakes\":true,\"lakecolor\":\"white\"},\"title\":{\"x\":0.05},\"mapbox\":{\"style\":\"light\"}}},\"legend\":{\"x\":0,\"y\":1,\"traceorder\":\"normal\"},\"margin\":{\"l\":0,\"r\":0,\"t\":30,\"b\":0},\"title\":{\"text\":\"Regression Analysis\"},\"xaxis\":{\"title\":{\"text\":\"Relative Humidity (%)\"}},\"yaxis\":{\"title\":{\"text\":\"Moisture Content (%)\"}}},                        {\"responsive\": true}                    ).then(function(){\n",
              "                            \n",
              "var gd = document.getElementById('226f1940-135f-4333-af63-60636f126ecd');\n",
              "var x = new MutationObserver(function (mutations, observer) {{\n",
              "        var display = window.getComputedStyle(gd).display;\n",
              "        if (!display || display === 'none') {{\n",
              "            console.log([gd, 'removed!']);\n",
              "            Plotly.purge(gd);\n",
              "            observer.disconnect();\n",
              "        }}\n",
              "}});\n",
              "\n",
              "// Listen for the removal of the full notebook cells\n",
              "var notebookContainer = gd.closest('#notebook-container');\n",
              "if (notebookContainer) {{\n",
              "    x.observe(notebookContainer, {childList: true});\n",
              "}}\n",
              "\n",
              "// Listen for the clearing of the current output cell\n",
              "var outputEl = gd.closest('.output');\n",
              "if (outputEl) {{\n",
              "    x.observe(outputEl, {childList: true});\n",
              "}}\n",
              "\n",
              "                        })                };                            </script>        </div>\n",
              "</body>\n",
              "</html>"
            ]
          },
          "metadata": {}
        }
      ]
    },
    {
      "cell_type": "markdown",
      "source": [
        "## Part-E ▶ Assess_goodness_of_fit ⭐\n"
      ],
      "metadata": {
        "id": "kZM8P0SoAF5w"
      }
    },
    {
      "cell_type": "code",
      "source": [
        "def assess_goodness_of_fit(actual_moisture_content, predicted_moisture_content):\n",
        "    mse = np.mean((actual_moisture_content - predicted_moisture_content) ** 2)\n",
        "    return mse\n"
      ],
      "metadata": {
        "id": "_KNgndiu-2fo"
      },
      "execution_count": 7,
      "outputs": []
    },
    {
      "cell_type": "code",
      "source": [
        "predicted_moisture_content= relative_humidity*slope + intercept\n",
        "assess_goodness_of_fit(moisture_content, predicted_moisture_content)"
      ],
      "metadata": {
        "colab": {
          "base_uri": "https://localhost:8080/"
        },
        "id": "pPK3u-bBAPiO",
        "outputId": "3c79f04c-e652-4eef-cc4c-5879a2059ad5"
      },
      "execution_count": 8,
      "outputs": [
        {
          "output_type": "execute_result",
          "data": {
            "text/plain": [
              "0.8721785048664319"
            ]
          },
          "metadata": {},
          "execution_count": 8
        }
      ]
    },
    {
      "cell_type": "markdown",
      "source": [
        "## Part-F ▶ Compute Confidence Interval"
      ],
      "metadata": {
        "id": "rYwiVGc8Fita"
      }
    },
    {
      "cell_type": "code",
      "source": [
        "from scipy.stats import t\n",
        "\n",
        "def compute_confidence_interval(relative_humidity, slope, intercept, actual_moisture_content, confidence_level=0.95):\n",
        "    predicted_moisture_content = predict_moisture_content(relative_humidity, slope, intercept)\n",
        "    residual = actual_moisture_content - predicted_moisture_content\n",
        "    dof = len(actual_moisture_content) - 2  # degrees of freedom\n",
        "    std_error = np.sqrt(np.sum(residual ** 2) / dof)\n",
        "    t_critical = t.ppf((1 + confidence_level) / 2, dof)\n",
        "    margin_of_error = t_critical * std_error\n",
        "    confidence_interval = predicted_moisture_content - margin_of_error, predicted_moisture_content + margin_of_error\n",
        "    return confidence_interval\n"
      ],
      "metadata": {
        "id": "cvlSv7tsFPDu"
      },
      "execution_count": 9,
      "outputs": []
    },
    {
      "cell_type": "code",
      "source": [
        "compute_confidence_interval(\n",
        "    relative_humidity,\n",
        "    slope,\n",
        "    intercept,\n",
        "    moisture_content,\n",
        "    confidence_level=0.95\n",
        ")"
      ],
      "metadata": {
        "colab": {
          "base_uri": "https://localhost:8080/"
        },
        "id": "dFq69iIJFsSY",
        "outputId": "4618ed23-e02b-4d01-f320-952724fdd7ff"
      },
      "execution_count": 10,
      "outputs": [
        {
          "output_type": "execute_result",
          "data": {
            "text/plain": [
              "(array([10.18967865, 12.45210359,  4.6952181 , 15.03773208,  6.95764303,\n",
              "         7.92725372, 10.51288221, 11.15928934, 12.12890002,  7.60405016,\n",
              "        13.09851071,  5.66482879, 13.74491783, 12.77530715,  9.54327153]),\n",
              " array([14.52413373, 16.78655866,  9.02967318, 19.37218716, 11.29209811,\n",
              "        12.2617088 , 14.84733729, 15.49374442, 16.4633551 , 11.93850524,\n",
              "        17.43296579,  9.99928387, 18.07937291, 17.10976223, 13.87772661]))"
            ]
          },
          "metadata": {},
          "execution_count": 10
        }
      ]
    },
    {
      "cell_type": "code",
      "source": [
        "def plot_regression_line_with_ci(relative_humidity, moisture_content, slope, intercept, confidence_interval):\n",
        "    fig = go.Figure()\n",
        "\n",
        "    # Scatter plot\n",
        "    fig.add_trace(go.Scatter(x=relative_humidity, y=moisture_content, mode='markers', name='Data Points'))\n",
        "\n",
        "    # Regression line\n",
        "    x_range = np.linspace(min(relative_humidity), max(relative_humidity), 100)\n",
        "    y_range = slope * x_range + intercept\n",
        "    fig.add_trace(go.Scatter(x=x_range, y=y_range, mode='lines', name='Regression Line'))\n",
        "\n",
        "    # Confidence interval\n",
        "    lower_bound, upper_bound = confidence_interval\n",
        "    fig.add_trace(go.Scatter(x=np.concatenate([x_range, x_range[::-1]]),\n",
        "                             y=np.concatenate([lower_bound, upper_bound[::-1]]),\n",
        "                             fill='toself',\n",
        "                             fillcolor='rgba(0,100,80,0.2)',\n",
        "                             line=dict(color='rgba(255,255,255,0)'),\n",
        "                             name='Confidence Interval'))\n",
        "\n",
        "    fig.update_layout(\n",
        "        title=\"Regression Analysis with Confidence Interval\",\n",
        "        xaxis_title=\"Relative Humidity (%)\",\n",
        "        yaxis_title=\"Moisture Content (%)\",\n",
        "        legend=dict(x=0, y=1, traceorder=\"normal\"),\n",
        "        margin=dict(l=0, r=0, t=30, b=0)\n",
        "    )\n",
        "\n",
        "    fig.show()\n",
        "\n",
        "# Sample data\n",
        "relative_humidity = np.array([46, 53, 29, 61, 36, 39, 47, 49, 52, 38, 55, 32, 57, 54, 44])\n",
        "moisture_content = np.array([12, 15, 7, 17, 10, 11, 11, 12, 14, 9, 16, 8, 18, 14, 12])\n",
        "\n",
        "slope, intercept = calculate_least_squares_estimator(relative_humidity, moisture_content)\n",
        "confidence_interval = compute_confidence_interval(relative_humidity, slope, intercept, moisture_content)\n",
        "\n",
        "plot_regression_line_with_ci(relative_humidity, moisture_content, slope, intercept, confidence_interval)\n"
      ],
      "metadata": {
        "colab": {
          "base_uri": "https://localhost:8080/",
          "height": 542
        },
        "id": "e47H5cj2GJjx",
        "outputId": "a94e51d8-b2cf-48a6-a914-51f763f442a9"
      },
      "execution_count": 11,
      "outputs": [
        {
          "output_type": "display_data",
          "data": {
            "text/html": [
              "<html>\n",
              "<head><meta charset=\"utf-8\" /></head>\n",
              "<body>\n",
              "    <div>            <script src=\"https://cdnjs.cloudflare.com/ajax/libs/mathjax/2.7.5/MathJax.js?config=TeX-AMS-MML_SVG\"></script><script type=\"text/javascript\">if (window.MathJax && window.MathJax.Hub && window.MathJax.Hub.Config) {window.MathJax.Hub.Config({SVG: {font: \"STIX-Web\"}});}</script>                <script type=\"text/javascript\">window.PlotlyConfig = {MathJaxConfig: 'local'};</script>\n",
              "        <script charset=\"utf-8\" src=\"https://cdn.plot.ly/plotly-2.24.1.min.js\"></script>                <div id=\"b1e7d3e6-150a-478d-ab1d-250550e63f39\" class=\"plotly-graph-div\" style=\"height:525px; width:100%;\"></div>            <script type=\"text/javascript\">                                    window.PLOTLYENV=window.PLOTLYENV || {};                                    if (document.getElementById(\"b1e7d3e6-150a-478d-ab1d-250550e63f39\")) {                    Plotly.newPlot(                        \"b1e7d3e6-150a-478d-ab1d-250550e63f39\",                        [{\"mode\":\"markers\",\"name\":\"Data Points\",\"x\":[46,53,29,61,36,39,47,49,52,38,55,32,57,54,44],\"y\":[12,15,7,17,10,11,11,12,14,9,16,8,18,14,12],\"type\":\"scatter\"},{\"mode\":\"lines\",\"name\":\"Regression Line\",\"x\":[29.0,29.32323232323232,29.646464646464647,29.96969696969697,30.292929292929294,30.616161616161616,30.939393939393938,31.262626262626263,31.585858585858585,31.90909090909091,32.23232323232323,32.55555555555556,32.878787878787875,33.2020202020202,33.525252525252526,33.84848484848485,34.17171717171717,34.494949494949495,34.81818181818182,35.141414141414145,35.464646464646464,35.78787878787879,36.111111111111114,36.43434343434343,36.75757575757576,37.08080808080808,37.4040404040404,37.72727272727273,38.05050505050505,38.37373737373737,38.696969696969695,39.02020202020202,39.343434343434346,39.66666666666667,39.98989898989899,40.313131313131315,40.63636363636364,40.95959595959596,41.282828282828284,41.60606060606061,41.92929292929293,42.25252525252525,42.57575757575758,42.898989898989896,43.22222222222222,43.54545454545455,43.86868686868687,44.1919191919192,44.515151515151516,44.83838383838384,45.161616161616166,45.484848484848484,45.80808080808081,46.131313131313135,46.45454545454545,46.77777777777778,47.101010101010104,47.42424242424242,47.74747474747475,48.07070707070707,48.39393939393939,48.71717171717172,49.04040404040404,49.36363636363637,49.68686868686869,50.01010101010101,50.333333333333336,50.65656565656566,50.97979797979798,51.303030303030305,51.62626262626263,51.94949494949495,52.27272727272727,52.5959595959596,52.91919191919192,53.24242424242425,53.56565656565657,53.888888888888886,54.21212121212122,54.535353535353536,54.85858585858586,55.18181818181819,55.505050505050505,55.82828282828283,56.151515151515156,56.474747474747474,56.7979797979798,57.121212121212125,57.44444444444444,57.767676767676775,58.09090909090909,58.41414141414141,58.737373737373744,59.06060606060606,59.38383838383839,59.70707070707071,60.03030303030303,60.35353535353536,60.67676767676768,61.0],\"y\":[6.862445640919445,6.966915479081559,7.0713853172436725,7.175855155405786,7.2803249935679,7.384794831730014,7.489264669892128,7.593734508054242,7.698204346216356,7.802674184378471,7.907144022540585,8.011613860702699,8.116083698864811,8.220553537026927,8.32502337518904,8.429493213351156,8.533963051513268,8.638432889675382,8.742902727837498,8.847372565999612,8.951842404161724,9.05631224232384,9.160782080485953,9.265251918648065,9.369721756810181,9.474191594972295,9.578661433134407,9.683131271296523,9.787601109458636,9.89207094762075,9.996540785782864,10.101010623944978,10.205480462107094,10.309950300269207,10.414420138431321,10.518889976593435,10.623359814755549,10.727829652917663,10.832299491079777,10.936769329241892,11.041239167404004,11.145709005566118,11.250178843728234,11.354648681890346,11.45911852005246,11.563588358214576,11.66805819637669,11.772528034538805,11.876997872700917,11.981467710863031,12.085937549025147,12.190407387187259,12.294877225349373,12.399347063511488,12.5038169016736,12.608286739835714,12.71275657799783,12.817226416159942,12.921696254322056,13.026166092484171,13.130635930646283,13.2351057688084,13.339575606970513,13.444045445132627,13.548515283294742,13.652985121456856,13.75745495961897,13.861924797781084,13.966394635943198,14.070864474105312,14.175334312267426,14.27980415042954,14.384273988591653,14.488743826753767,14.593213664915881,14.697683503077998,14.802153341240109,14.906623179402223,15.01109301756434,15.11556285572645,15.220032693888564,15.324502532050682,15.428972370212792,15.533442208374906,15.637912046537023,15.742381884699133,15.84685172286125,15.951321561023365,16.055791399185473,16.16026123734759,16.264731075509708,16.36920091367182,16.473670751833936,16.578140589996046,16.682610428158164,16.787080266320274,16.89155010448239,16.9960199426445,17.10048978080662,17.20495961896873],\"type\":\"scatter\"},{\"fill\":\"toself\",\"fillcolor\":\"rgba(0,100,80,0.2)\",\"line\":{\"color\":\"rgba(255,255,255,0)\"},\"name\":\"Confidence Interval\",\"x\":[29.0,29.32323232323232,29.646464646464647,29.96969696969697,30.292929292929294,30.616161616161616,30.939393939393938,31.262626262626263,31.585858585858585,31.90909090909091,32.23232323232323,32.55555555555556,32.878787878787875,33.2020202020202,33.525252525252526,33.84848484848485,34.17171717171717,34.494949494949495,34.81818181818182,35.141414141414145,35.464646464646464,35.78787878787879,36.111111111111114,36.43434343434343,36.75757575757576,37.08080808080808,37.4040404040404,37.72727272727273,38.05050505050505,38.37373737373737,38.696969696969695,39.02020202020202,39.343434343434346,39.66666666666667,39.98989898989899,40.313131313131315,40.63636363636364,40.95959595959596,41.282828282828284,41.60606060606061,41.92929292929293,42.25252525252525,42.57575757575758,42.898989898989896,43.22222222222222,43.54545454545455,43.86868686868687,44.1919191919192,44.515151515151516,44.83838383838384,45.161616161616166,45.484848484848484,45.80808080808081,46.131313131313135,46.45454545454545,46.77777777777778,47.101010101010104,47.42424242424242,47.74747474747475,48.07070707070707,48.39393939393939,48.71717171717172,49.04040404040404,49.36363636363637,49.68686868686869,50.01010101010101,50.333333333333336,50.65656565656566,50.97979797979798,51.303030303030305,51.62626262626263,51.94949494949495,52.27272727272727,52.5959595959596,52.91919191919192,53.24242424242425,53.56565656565657,53.888888888888886,54.21212121212122,54.535353535353536,54.85858585858586,55.18181818181819,55.505050505050505,55.82828282828283,56.151515151515156,56.474747474747474,56.7979797979798,57.121212121212125,57.44444444444444,57.767676767676775,58.09090909090909,58.41414141414141,58.737373737373744,59.06060606060606,59.38383838383839,59.70707070707071,60.03030303030303,60.35353535353536,60.67676767676768,61.0,61.0,60.67676767676768,60.35353535353536,60.03030303030303,59.70707070707071,59.38383838383839,59.06060606060606,58.737373737373744,58.41414141414141,58.09090909090909,57.767676767676775,57.44444444444444,57.121212121212125,56.7979797979798,56.474747474747474,56.151515151515156,55.82828282828283,55.505050505050505,55.18181818181819,54.85858585858586,54.535353535353536,54.21212121212122,53.888888888888886,53.56565656565657,53.24242424242425,52.91919191919192,52.5959595959596,52.27272727272727,51.94949494949495,51.62626262626263,51.303030303030305,50.97979797979798,50.65656565656566,50.333333333333336,50.01010101010101,49.68686868686869,49.36363636363637,49.04040404040404,48.71717171717172,48.39393939393939,48.07070707070707,47.74747474747475,47.42424242424242,47.101010101010104,46.77777777777778,46.45454545454545,46.131313131313135,45.80808080808081,45.484848484848484,45.161616161616166,44.83838383838384,44.515151515151516,44.1919191919192,43.86868686868687,43.54545454545455,43.22222222222222,42.898989898989896,42.57575757575758,42.25252525252525,41.92929292929293,41.60606060606061,41.282828282828284,40.95959595959596,40.63636363636364,40.313131313131315,39.98989898989899,39.66666666666667,39.343434343434346,39.02020202020202,38.696969696969695,38.37373737373737,38.05050505050505,37.72727272727273,37.4040404040404,37.08080808080808,36.75757575757576,36.43434343434343,36.111111111111114,35.78787878787879,35.464646464646464,35.141414141414145,34.81818181818182,34.494949494949495,34.17171717171717,33.84848484848485,33.525252525252526,33.2020202020202,32.878787878787875,32.55555555555556,32.23232323232323,31.90909090909091,31.585858585858585,31.262626262626263,30.939393939393938,30.616161616161616,30.292929292929294,29.96969696969697,29.646464646464647,29.32323232323232,29.0],\"y\":[10.189678652651242,12.452103585349525,4.695218101812559,15.037732079861843,6.9576430345108395,7.92725371995296,10.512882214465282,11.159289338093362,12.128900023535484,7.60405015813892,13.098510708977605,5.664828787254679,13.744917832605685,12.775307147163565,9.543271529023162,13.877726607236934,17.109762225377334,18.079372910819455,9.99928386546845,17.432965787191375,11.938505236352691,16.463355101749254,15.493744416307134,14.847337292679054,12.261708798166731,11.292098112724611,19.372187158075615,9.02967318002633,16.786558663563294,14.524133730865014],\"type\":\"scatter\"}],                        {\"template\":{\"data\":{\"histogram2dcontour\":[{\"type\":\"histogram2dcontour\",\"colorbar\":{\"outlinewidth\":0,\"ticks\":\"\"},\"colorscale\":[[0.0,\"#0d0887\"],[0.1111111111111111,\"#46039f\"],[0.2222222222222222,\"#7201a8\"],[0.3333333333333333,\"#9c179e\"],[0.4444444444444444,\"#bd3786\"],[0.5555555555555556,\"#d8576b\"],[0.6666666666666666,\"#ed7953\"],[0.7777777777777778,\"#fb9f3a\"],[0.8888888888888888,\"#fdca26\"],[1.0,\"#f0f921\"]]}],\"choropleth\":[{\"type\":\"choropleth\",\"colorbar\":{\"outlinewidth\":0,\"ticks\":\"\"}}],\"histogram2d\":[{\"type\":\"histogram2d\",\"colorbar\":{\"outlinewidth\":0,\"ticks\":\"\"},\"colorscale\":[[0.0,\"#0d0887\"],[0.1111111111111111,\"#46039f\"],[0.2222222222222222,\"#7201a8\"],[0.3333333333333333,\"#9c179e\"],[0.4444444444444444,\"#bd3786\"],[0.5555555555555556,\"#d8576b\"],[0.6666666666666666,\"#ed7953\"],[0.7777777777777778,\"#fb9f3a\"],[0.8888888888888888,\"#fdca26\"],[1.0,\"#f0f921\"]]}],\"heatmap\":[{\"type\":\"heatmap\",\"colorbar\":{\"outlinewidth\":0,\"ticks\":\"\"},\"colorscale\":[[0.0,\"#0d0887\"],[0.1111111111111111,\"#46039f\"],[0.2222222222222222,\"#7201a8\"],[0.3333333333333333,\"#9c179e\"],[0.4444444444444444,\"#bd3786\"],[0.5555555555555556,\"#d8576b\"],[0.6666666666666666,\"#ed7953\"],[0.7777777777777778,\"#fb9f3a\"],[0.8888888888888888,\"#fdca26\"],[1.0,\"#f0f921\"]]}],\"heatmapgl\":[{\"type\":\"heatmapgl\",\"colorbar\":{\"outlinewidth\":0,\"ticks\":\"\"},\"colorscale\":[[0.0,\"#0d0887\"],[0.1111111111111111,\"#46039f\"],[0.2222222222222222,\"#7201a8\"],[0.3333333333333333,\"#9c179e\"],[0.4444444444444444,\"#bd3786\"],[0.5555555555555556,\"#d8576b\"],[0.6666666666666666,\"#ed7953\"],[0.7777777777777778,\"#fb9f3a\"],[0.8888888888888888,\"#fdca26\"],[1.0,\"#f0f921\"]]}],\"contourcarpet\":[{\"type\":\"contourcarpet\",\"colorbar\":{\"outlinewidth\":0,\"ticks\":\"\"}}],\"contour\":[{\"type\":\"contour\",\"colorbar\":{\"outlinewidth\":0,\"ticks\":\"\"},\"colorscale\":[[0.0,\"#0d0887\"],[0.1111111111111111,\"#46039f\"],[0.2222222222222222,\"#7201a8\"],[0.3333333333333333,\"#9c179e\"],[0.4444444444444444,\"#bd3786\"],[0.5555555555555556,\"#d8576b\"],[0.6666666666666666,\"#ed7953\"],[0.7777777777777778,\"#fb9f3a\"],[0.8888888888888888,\"#fdca26\"],[1.0,\"#f0f921\"]]}],\"surface\":[{\"type\":\"surface\",\"colorbar\":{\"outlinewidth\":0,\"ticks\":\"\"},\"colorscale\":[[0.0,\"#0d0887\"],[0.1111111111111111,\"#46039f\"],[0.2222222222222222,\"#7201a8\"],[0.3333333333333333,\"#9c179e\"],[0.4444444444444444,\"#bd3786\"],[0.5555555555555556,\"#d8576b\"],[0.6666666666666666,\"#ed7953\"],[0.7777777777777778,\"#fb9f3a\"],[0.8888888888888888,\"#fdca26\"],[1.0,\"#f0f921\"]]}],\"mesh3d\":[{\"type\":\"mesh3d\",\"colorbar\":{\"outlinewidth\":0,\"ticks\":\"\"}}],\"scatter\":[{\"fillpattern\":{\"fillmode\":\"overlay\",\"size\":10,\"solidity\":0.2},\"type\":\"scatter\"}],\"parcoords\":[{\"type\":\"parcoords\",\"line\":{\"colorbar\":{\"outlinewidth\":0,\"ticks\":\"\"}}}],\"scatterpolargl\":[{\"type\":\"scatterpolargl\",\"marker\":{\"colorbar\":{\"outlinewidth\":0,\"ticks\":\"\"}}}],\"bar\":[{\"error_x\":{\"color\":\"#2a3f5f\"},\"error_y\":{\"color\":\"#2a3f5f\"},\"marker\":{\"line\":{\"color\":\"#E5ECF6\",\"width\":0.5},\"pattern\":{\"fillmode\":\"overlay\",\"size\":10,\"solidity\":0.2}},\"type\":\"bar\"}],\"scattergeo\":[{\"type\":\"scattergeo\",\"marker\":{\"colorbar\":{\"outlinewidth\":0,\"ticks\":\"\"}}}],\"scatterpolar\":[{\"type\":\"scatterpolar\",\"marker\":{\"colorbar\":{\"outlinewidth\":0,\"ticks\":\"\"}}}],\"histogram\":[{\"marker\":{\"pattern\":{\"fillmode\":\"overlay\",\"size\":10,\"solidity\":0.2}},\"type\":\"histogram\"}],\"scattergl\":[{\"type\":\"scattergl\",\"marker\":{\"colorbar\":{\"outlinewidth\":0,\"ticks\":\"\"}}}],\"scatter3d\":[{\"type\":\"scatter3d\",\"line\":{\"colorbar\":{\"outlinewidth\":0,\"ticks\":\"\"}},\"marker\":{\"colorbar\":{\"outlinewidth\":0,\"ticks\":\"\"}}}],\"scattermapbox\":[{\"type\":\"scattermapbox\",\"marker\":{\"colorbar\":{\"outlinewidth\":0,\"ticks\":\"\"}}}],\"scatterternary\":[{\"type\":\"scatterternary\",\"marker\":{\"colorbar\":{\"outlinewidth\":0,\"ticks\":\"\"}}}],\"scattercarpet\":[{\"type\":\"scattercarpet\",\"marker\":{\"colorbar\":{\"outlinewidth\":0,\"ticks\":\"\"}}}],\"carpet\":[{\"aaxis\":{\"endlinecolor\":\"#2a3f5f\",\"gridcolor\":\"white\",\"linecolor\":\"white\",\"minorgridcolor\":\"white\",\"startlinecolor\":\"#2a3f5f\"},\"baxis\":{\"endlinecolor\":\"#2a3f5f\",\"gridcolor\":\"white\",\"linecolor\":\"white\",\"minorgridcolor\":\"white\",\"startlinecolor\":\"#2a3f5f\"},\"type\":\"carpet\"}],\"table\":[{\"cells\":{\"fill\":{\"color\":\"#EBF0F8\"},\"line\":{\"color\":\"white\"}},\"header\":{\"fill\":{\"color\":\"#C8D4E3\"},\"line\":{\"color\":\"white\"}},\"type\":\"table\"}],\"barpolar\":[{\"marker\":{\"line\":{\"color\":\"#E5ECF6\",\"width\":0.5},\"pattern\":{\"fillmode\":\"overlay\",\"size\":10,\"solidity\":0.2}},\"type\":\"barpolar\"}],\"pie\":[{\"automargin\":true,\"type\":\"pie\"}]},\"layout\":{\"autotypenumbers\":\"strict\",\"colorway\":[\"#636efa\",\"#EF553B\",\"#00cc96\",\"#ab63fa\",\"#FFA15A\",\"#19d3f3\",\"#FF6692\",\"#B6E880\",\"#FF97FF\",\"#FECB52\"],\"font\":{\"color\":\"#2a3f5f\"},\"hovermode\":\"closest\",\"hoverlabel\":{\"align\":\"left\"},\"paper_bgcolor\":\"white\",\"plot_bgcolor\":\"#E5ECF6\",\"polar\":{\"bgcolor\":\"#E5ECF6\",\"angularaxis\":{\"gridcolor\":\"white\",\"linecolor\":\"white\",\"ticks\":\"\"},\"radialaxis\":{\"gridcolor\":\"white\",\"linecolor\":\"white\",\"ticks\":\"\"}},\"ternary\":{\"bgcolor\":\"#E5ECF6\",\"aaxis\":{\"gridcolor\":\"white\",\"linecolor\":\"white\",\"ticks\":\"\"},\"baxis\":{\"gridcolor\":\"white\",\"linecolor\":\"white\",\"ticks\":\"\"},\"caxis\":{\"gridcolor\":\"white\",\"linecolor\":\"white\",\"ticks\":\"\"}},\"coloraxis\":{\"colorbar\":{\"outlinewidth\":0,\"ticks\":\"\"}},\"colorscale\":{\"sequential\":[[0.0,\"#0d0887\"],[0.1111111111111111,\"#46039f\"],[0.2222222222222222,\"#7201a8\"],[0.3333333333333333,\"#9c179e\"],[0.4444444444444444,\"#bd3786\"],[0.5555555555555556,\"#d8576b\"],[0.6666666666666666,\"#ed7953\"],[0.7777777777777778,\"#fb9f3a\"],[0.8888888888888888,\"#fdca26\"],[1.0,\"#f0f921\"]],\"sequentialminus\":[[0.0,\"#0d0887\"],[0.1111111111111111,\"#46039f\"],[0.2222222222222222,\"#7201a8\"],[0.3333333333333333,\"#9c179e\"],[0.4444444444444444,\"#bd3786\"],[0.5555555555555556,\"#d8576b\"],[0.6666666666666666,\"#ed7953\"],[0.7777777777777778,\"#fb9f3a\"],[0.8888888888888888,\"#fdca26\"],[1.0,\"#f0f921\"]],\"diverging\":[[0,\"#8e0152\"],[0.1,\"#c51b7d\"],[0.2,\"#de77ae\"],[0.3,\"#f1b6da\"],[0.4,\"#fde0ef\"],[0.5,\"#f7f7f7\"],[0.6,\"#e6f5d0\"],[0.7,\"#b8e186\"],[0.8,\"#7fbc41\"],[0.9,\"#4d9221\"],[1,\"#276419\"]]},\"xaxis\":{\"gridcolor\":\"white\",\"linecolor\":\"white\",\"ticks\":\"\",\"title\":{\"standoff\":15},\"zerolinecolor\":\"white\",\"automargin\":true,\"zerolinewidth\":2},\"yaxis\":{\"gridcolor\":\"white\",\"linecolor\":\"white\",\"ticks\":\"\",\"title\":{\"standoff\":15},\"zerolinecolor\":\"white\",\"automargin\":true,\"zerolinewidth\":2},\"scene\":{\"xaxis\":{\"backgroundcolor\":\"#E5ECF6\",\"gridcolor\":\"white\",\"linecolor\":\"white\",\"showbackground\":true,\"ticks\":\"\",\"zerolinecolor\":\"white\",\"gridwidth\":2},\"yaxis\":{\"backgroundcolor\":\"#E5ECF6\",\"gridcolor\":\"white\",\"linecolor\":\"white\",\"showbackground\":true,\"ticks\":\"\",\"zerolinecolor\":\"white\",\"gridwidth\":2},\"zaxis\":{\"backgroundcolor\":\"#E5ECF6\",\"gridcolor\":\"white\",\"linecolor\":\"white\",\"showbackground\":true,\"ticks\":\"\",\"zerolinecolor\":\"white\",\"gridwidth\":2}},\"shapedefaults\":{\"line\":{\"color\":\"#2a3f5f\"}},\"annotationdefaults\":{\"arrowcolor\":\"#2a3f5f\",\"arrowhead\":0,\"arrowwidth\":1},\"geo\":{\"bgcolor\":\"white\",\"landcolor\":\"#E5ECF6\",\"subunitcolor\":\"white\",\"showland\":true,\"showlakes\":true,\"lakecolor\":\"white\"},\"title\":{\"x\":0.05},\"mapbox\":{\"style\":\"light\"}}},\"legend\":{\"x\":0,\"y\":1,\"traceorder\":\"normal\"},\"margin\":{\"l\":0,\"r\":0,\"t\":30,\"b\":0},\"title\":{\"text\":\"Regression Analysis with Confidence Interval\"},\"xaxis\":{\"title\":{\"text\":\"Relative Humidity (%)\"}},\"yaxis\":{\"title\":{\"text\":\"Moisture Content (%)\"}}},                        {\"responsive\": true}                    ).then(function(){\n",
              "                            \n",
              "var gd = document.getElementById('b1e7d3e6-150a-478d-ab1d-250550e63f39');\n",
              "var x = new MutationObserver(function (mutations, observer) {{\n",
              "        var display = window.getComputedStyle(gd).display;\n",
              "        if (!display || display === 'none') {{\n",
              "            console.log([gd, 'removed!']);\n",
              "            Plotly.purge(gd);\n",
              "            observer.disconnect();\n",
              "        }}\n",
              "}});\n",
              "\n",
              "// Listen for the removal of the full notebook cells\n",
              "var notebookContainer = gd.closest('#notebook-container');\n",
              "if (notebookContainer) {{\n",
              "    x.observe(notebookContainer, {childList: true});\n",
              "}}\n",
              "\n",
              "// Listen for the clearing of the current output cell\n",
              "var outputEl = gd.closest('.output');\n",
              "if (outputEl) {{\n",
              "    x.observe(outputEl, {childList: true});\n",
              "}}\n",
              "\n",
              "                        })                };                            </script>        </div>\n",
              "</body>\n",
              "</html>"
            ]
          },
          "metadata": {}
        }
      ]
    },
    {
      "cell_type": "markdown",
      "source": [
        "# Question-2"
      ],
      "metadata": {
        "id": "Je0tVPk9GaTG"
      }
    },
    {
      "cell_type": "markdown",
      "source": [
        "## Part-A ▶ Calculate_slope_intercept"
      ],
      "metadata": {
        "id": "nLgrimUUGhSJ"
      }
    },
    {
      "cell_type": "code",
      "source": [
        "def calculate_slope_intercept(study_time, exam_scores):\n",
        "    mean_study_time = np.mean(study_time)\n",
        "    mean_exam_scores = np.mean(exam_scores)\n",
        "\n",
        "    numerator = np.sum((study_time - mean_study_time) * (exam_scores - mean_exam_scores))\n",
        "    denominator = np.sum((study_time - mean_study_time) ** 2)\n",
        "\n",
        "    slope = numerator / denominator\n",
        "    intercept = mean_exam_scores - slope * mean_study_time\n",
        "\n",
        "    return slope, intercept"
      ],
      "metadata": {
        "id": "ngZ-ThSbGJ9b"
      },
      "execution_count": 12,
      "outputs": []
    },
    {
      "cell_type": "code",
      "source": [
        "study_time = np.array([2, 4, 6, 8, 10, 12, 14, 16, 18, 20, 22, 24, 26, 28, 30])\n",
        "exam_scores = np.array([70, 75, 80, 85, 90, 92, 94, 96, 98, 100, 101, 102, 103, 104, 105])\n",
        "\n",
        "slope, intercept = calculate_slope_intercept(study_time, exam_scores)\n",
        "print(\"Slope:\", slope)\n",
        "print(\"Intercept:\", intercept)"
      ],
      "metadata": {
        "colab": {
          "base_uri": "https://localhost:8080/"
        },
        "id": "_N8cKcGJGzhF",
        "outputId": "ee561ae4-9e80-404e-cc4f-f0efc425b2e1"
      },
      "execution_count": 13,
      "outputs": [
        {
          "output_type": "stream",
          "name": "stdout",
          "text": [
            "Slope: 1.1696428571428572\n",
            "Intercept: 74.28571428571428\n"
          ]
        }
      ]
    },
    {
      "cell_type": "markdown",
      "source": [
        "## Part-B ▶ Visualize the Plot between Study time and exam_scores"
      ],
      "metadata": {
        "id": "64u6aJflG4gP"
      }
    },
    {
      "cell_type": "code",
      "source": [
        "plt.figure(figsize=(8, 6))\n",
        "plt.scatter(study_time, exam_scores, color='blue', label='Data Points')\n",
        "\n",
        "x_range = np.linspace(min(study_time), max(study_time), 100)\n",
        "y_range = slope * x_range + intercept\n",
        "plt.plot(x_range, y_range, color='red', label='Regression Line')\n",
        "\n",
        "plt.title('Relationship Between Study Time and Exam Scores')\n",
        "plt.xlabel('Study Time (hours)')\n",
        "plt.ylabel('Exam Score')\n",
        "plt.legend()\n",
        "plt.grid(True)\n",
        "\n",
        "plt.show()"
      ],
      "metadata": {
        "colab": {
          "base_uri": "https://localhost:8080/",
          "height": 564
        },
        "id": "PxBjUCUDG2CP",
        "outputId": "5efa5bea-b5d8-4826-a9e6-0564db527c30"
      },
      "execution_count": 14,
      "outputs": [
        {
          "output_type": "display_data",
          "data": {
            "text/plain": [
              "<Figure size 800x600 with 1 Axes>"
            ],
            "image/png": "[encoded data removed]"
          },
          "metadata": {}
        }
      ]
    },
    {
      "cell_type": "markdown",
      "source": [
        "## Part-C ▶ Predict exam score"
      ],
      "metadata": {
        "id": "0YHZRSv2HhV2"
      }
    },
    {
      "cell_type": "code",
      "source": [
        "def predict_exam_score(study_time, slope, intercept):\n",
        "    predicted_exam_score = slope * study_time + intercept\n",
        "    return predicted_exam_score"
      ],
      "metadata": {
        "id": "zQn8Y6W-HB92"
      },
      "execution_count": 15,
      "outputs": []
    },
    {
      "cell_type": "code",
      "source": [
        "predict_exam_score(study_time, slope, intercept)"
      ],
      "metadata": {
        "colab": {
          "base_uri": "https://localhost:8080/"
        },
        "id": "yEYsG8U7Hwtr",
        "outputId": "6c3a67a0-f1e6-479e-aab6-6b8f35a3174e"
      },
      "execution_count": 17,
      "outputs": [
        {
          "output_type": "execute_result",
          "data": {
            "text/plain": [
              "array([ 76.625     ,  78.96428571,  81.30357143,  83.64285714,\n",
              "        85.98214286,  88.32142857,  90.66071429,  93.        ,\n",
              "        95.33928571,  97.67857143, 100.01785714, 102.35714286,\n",
              "       104.69642857, 107.03571429, 109.375     ])"
            ]
          },
          "metadata": {},
          "execution_count": 17
        }
      ]
    },
    {
      "cell_type": "code",
      "source": [],
      "metadata": {
        "id": "AosiKAzXPoua"
      },
      "execution_count": null,
      "outputs": []
    }
  ]
}