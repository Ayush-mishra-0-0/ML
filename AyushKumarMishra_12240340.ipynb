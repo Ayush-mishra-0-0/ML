{
  "nbformat": 4,
  "nbformat_minor": 0,
  "metadata": {
    "colab": {
      "provenance": [],
      "include_colab_link": true
    },
    "kernelspec": {
      "name": "python3",
      "display_name": "Python 3"
    },
    "language_info": {
      "name": "python"
    }
  },
  "cells": [
    {
      "cell_type": "markdown",
      "metadata": {
        "id": "view-in-github",
        "colab_type": "text"
      },
      "source": [
        "<a href=\"https://colab.research.google.com/github/Ayush-mishra-0-0/ML/blob/main/AyushKumarMishra_12240340.ipynb\" target=\"_parent\"><img src=\"https://colab.research.google.com/assets/colab-badge.svg\" alt=\"Open In Colab\"/></a>"
      ]
    },
    {
      "cell_type": "markdown",
      "source": [
        "# <p style=\"text-align: center; color: cyan;\" >Name - Ayush Kumar Mishra</p>\n",
        "# <p style=\"text-align: center; color: blue;\" >Roll No- 12240340</p>"
      ],
      "metadata": {
        "id": "6H2R4zAdmtr9"
      }
    },
    {
      "cell_type": "markdown",
      "source": [
        "# **Questions**"
      ],
      "metadata": {
        "id": "Uv4fQx1L1B9r"
      }
    },
    {
      "cell_type": "markdown",
      "source": [
        "##  <p style=\"text-align: center; color: red;\" > Installing all the necesarry Libraries</p>"
      ],
      "metadata": {
        "id": "ft-1Orm3P4j1"
      }
    },
    {
      "cell_type": "code",
      "source": [
        "import string\n",
        "import re\n",
        "from nltk.stem import PorterStemmer"
      ],
      "metadata": {
        "id": "I4FUzyFYJyep"
      },
      "execution_count": 38,
      "outputs": []
    },
    {
      "cell_type": "markdown",
      "source": [
        "# **Q1) Remove emails from the given text using regular expressions**\n",
        "text = '''Dave Martin 615-555-7164 173 Main St., Springfield RI 55924 davemartin@gmail.com Charles Harris 800-555-5669 969 High St., Atlantis VA 34075 charlesharris@bogusemail.com Eric Williams 560-555-5153 806 1st St., Faketown AK 86847 laurawilliams@outlook.com'''"
      ],
      "metadata": {
        "id": "AVqZofA0056I"
      }
    },
    {
      "cell_type": "code",
      "source": [
        "text = 'Dave Martin 615-555-7164 173 Main St., Springfield RI 55924 davemartin@gmail.com Charles Harris 800-555-5669 969 High St., Atlantis VA 34075 charlesharris@bogusemail.com Eric Williams 560-555-5153 806 1st St., Faketown AK 86847 laurawilliams@outlook.com'"
      ],
      "metadata": {
        "id": "UQ1eQteg1ZxF"
      },
      "execution_count": 16,
      "outputs": []
    },
    {
      "cell_type": "code",
      "source": [
        "text"
      ],
      "metadata": {
        "colab": {
          "base_uri": "https://localhost:8080/",
          "height": 59
        },
        "id": "vfBd6KjfOlEh",
        "outputId": "48099444-538b-4a9c-8656-cb081b214651"
      },
      "execution_count": 17,
      "outputs": [
        {
          "output_type": "execute_result",
          "data": {
            "text/plain": [
              "'Dave Martin 615-555-7164 173 Main St., Springfield RI 55924 davemartin@gmail.com Charles Harris 800-555-5669 969 High St., Atlantis VA 34075 charlesharris@bogusemail.com Eric Williams 560-555-5153 806 1st St., Faketown AK 86847 laurawilliams@outlook.com'"
            ],
            "application/vnd.google.colaboratory.intrinsic+json": {
              "type": "string"
            }
          },
          "metadata": {},
          "execution_count": 17
        }
      ]
    },
    {
      "cell_type": "code",
      "source": [
        "sp=text.split()\n",
        "print(sp)"
      ],
      "metadata": {
        "colab": {
          "base_uri": "https://localhost:8080/"
        },
        "id": "1FhJPsy-PoUG",
        "outputId": "62ac8a60-7d3e-4de2-869d-abefcfc314b5"
      },
      "execution_count": 18,
      "outputs": [
        {
          "output_type": "stream",
          "name": "stdout",
          "text": [
            "['Dave', 'Martin', '615-555-7164', '173', 'Main', 'St.,', 'Springfield', 'RI', '55924', 'davemartin@gmail.com', 'Charles', 'Harris', '800-555-5669', '969', 'High', 'St.,', 'Atlantis', 'VA', '34075', 'charlesharris@bogusemail.com', 'Eric', 'Williams', '560-555-5153', '806', '1st', 'St.,', 'Faketown', 'AK', '86847', 'laurawilliams@outlook.com']\n"
          ]
        }
      ]
    },
    {
      "cell_type": "markdown",
      "source": [
        "### 📝 **Email Validation and Filtering Process**\n",
        "\n",
        "This script is designed to filter out invalid email addresses from a list using regular expressions. Below is a breakdown of the steps:\n",
        "\n",
        "---\n",
        "\n",
        "#### 📂 **Step 1: Importing Required Module**\n",
        "- **Regular Expressions (`re`)**: The script begins by importing the `re` module, which provides tools for working with regular expressions in Python.\n",
        "\n",
        "---\n",
        "\n",
        "#### 🔍 **Step 2: Compiling the Regular Expression**\n",
        "- **Regex Pattern**: A regular expression is compiled to match the format of valid email addresses. This pattern checks for:\n",
        "  - **Username**: Alphanumeric characters, possibly including periods (`.`), hyphens (`-`), or underscores (`_`).\n",
        "  - **Domain**: A domain name, consisting of alphanumeric characters and hyphens, followed by a top-level domain (TLD) such as `.com` or `.org`.\n",
        "\n",
        "---\n",
        "\n",
        "#### 📂 **Step 3: Initializing a List for Invalid Emails**\n",
        "- **Empty List**: An empty list is initialized to store email addresses that do not match the defined pattern.\n",
        "\n",
        "---\n",
        "\n",
        "#### 🔄 **Step 4: Filtering Invalid Emails**\n",
        "- **Looping Through Emails**: The script iterates through a list of email addresses, checking each one against the regex pattern.\n",
        "  - **Invalid Emails**: If an email does not match the pattern, it is added to the list of invalid emails.\n",
        "\n",
        "---\n",
        "\n",
        "#### 📊 **Step 5: Displaying the Invalid Emails**\n",
        "- **Result**: The invalid emails are then joined into a single string, with each email separated by a space, and displayed as the final output.\n"
      ],
      "metadata": {
        "id": "5OxITBqfG0DC"
      }
    },
    {
      "cell_type": "code",
      "source": [
        "import re\n",
        "\n",
        "regex = re.compile(r'([A-Za-z0-9]+[.-_])*[A-Za-z0-9]+@[A-Za-z0-9-]+(\\.[A-Z|a-z]{2,})+')\n",
        "\n",
        "l=[]\n",
        "for i in sp:\n",
        "  if(not(re.fullmatch(regex,i))):\n",
        "    l.append(i)\n",
        "ans=' '.join(l)\n",
        "ans"
      ],
      "metadata": {
        "colab": {
          "base_uri": "https://localhost:8080/",
          "height": 42
        },
        "id": "7y8Mc6oAfLtV",
        "outputId": "509b5ce2-fe3e-402c-f8ea-12b50a13450a"
      },
      "execution_count": 19,
      "outputs": [
        {
          "output_type": "execute_result",
          "data": {
            "text/plain": [
              "'Dave Martin 615-555-7164 173 Main St., Springfield RI 55924 Charles Harris 800-555-5669 969 High St., Atlantis VA 34075 Eric Williams 560-555-5153 806 1st St., Faketown AK 86847'"
            ],
            "application/vnd.google.colaboratory.intrinsic+json": {
              "type": "string"
            }
          },
          "metadata": {},
          "execution_count": 19
        }
      ]
    },
    {
      "cell_type": "markdown",
      "source": [
        "## **Q2) Write a simple stemming implementation which can handle trailing S's and ing.**\n",
        "Corpus:\n",
        "\"The cats were jumping and playing while the dogs were barking.\n",
        "They were all enjoying the warm weather.\n",
        "A child was running around, chasing butterflies and singing happily.\n",
        "Others were fishing by the river, hoping to catch something.\n",
        "Some people were processing the fresh catch, preparing for a barbecue.\"\n"
      ],
      "metadata": {
        "id": "rD-PQQQt1V0l"
      }
    },
    {
      "cell_type": "code",
      "source": [
        "text='The cats were jumping and playing while the dogs were barking. They were all enjoying the warm weather. A child was running around, chasing butterflies and singing happily. Others were fishing by the river, hoping to catch something. Some people were processing the fresh catch, preparing for a barbecue.'\n",
        "words=text.split()\n",
        "print(words)"
      ],
      "metadata": {
        "colab": {
          "base_uri": "https://localhost:8080/"
        },
        "id": "PRU9D6U1h62V",
        "outputId": "0ca1dd99-7fe6-4a27-f89b-6d8904c54088"
      },
      "execution_count": 21,
      "outputs": [
        {
          "output_type": "stream",
          "name": "stdout",
          "text": [
            "['The', 'cats', 'were', 'jumping', 'and', 'playing', 'while', 'the', 'dogs', 'were', 'barking.', 'They', 'were', 'all', 'enjoying', 'the', 'warm', 'weather.', 'A', 'child', 'was', 'running', 'around,', 'chasing', 'butterflies', 'and', 'singing', 'happily.', 'Others', 'were', 'fishing', 'by', 'the', 'river,', 'hoping', 'to', 'catch', 'something.', 'Some', 'people', 'were', 'processing', 'the', 'fresh', 'catch,', 'preparing', 'for', 'a', 'barbecue.']\n"
          ]
        }
      ]
    },
    {
      "cell_type": "markdown",
      "source": [
        "### 📝 **Word Stemming Process**\n",
        "\n",
        "This script is used to reduce words to their root form using the Porter Stemming algorithm.\n",
        "\n",
        "---\n",
        "\n",
        "#### 🔄 **Step 1: Applying the Porter Stemmer**\n",
        "- **Stemming**: Each word in the list is processed through the Porter Stemmer, which reduces the word to its base or root form (e.g., \"running\" becomes \"run\").\n",
        "\n",
        "#### 📊 **Step 2: Displaying the Stemmed Words**\n",
        "- **Result**: The stemmed words are then printed out as a list, showing their root forms.\n"
      ],
      "metadata": {
        "id": "BW6CeXCQHvmd"
      }
    },
    {
      "cell_type": "code",
      "source": [
        "from nltk.stem import PorterStemmer\n",
        "\n",
        "stemmer = PorterStemmer()\n",
        "\n",
        "stemmed_words = [stemmer.stem(word) for word in words]\n",
        "\n",
        "print(stemmed_words)"
      ],
      "metadata": {
        "id": "KIfINJVK1aTf",
        "colab": {
          "base_uri": "https://localhost:8080/"
        },
        "outputId": "a879b793-cfcc-45eb-ed7d-8afa6038fba8"
      },
      "execution_count": 22,
      "outputs": [
        {
          "output_type": "stream",
          "name": "stdout",
          "text": [
            "['the', 'cat', 'were', 'jump', 'and', 'play', 'while', 'the', 'dog', 'were', 'barking.', 'they', 'were', 'all', 'enjoy', 'the', 'warm', 'weather.', 'a', 'child', 'wa', 'run', 'around,', 'chase', 'butterfli', 'and', 'sing', 'happily.', 'other', 'were', 'fish', 'by', 'the', 'river,', 'hope', 'to', 'catch', 'something.', 'some', 'peopl', 'were', 'process', 'the', 'fresh', 'catch,', 'prepar', 'for', 'a', 'barbecue.']\n"
          ]
        }
      ]
    },
    {
      "cell_type": "markdown",
      "source": [
        "## **Q3) Pig Latin is a simple transformation of English text. Each word of the text is converted as follows: move any consonant (or consonant cluster) that appears at the start of the word to the end, then append ay, e.g. string → ingstray, idle → idleay. http://en.wikipedia.org/wiki/Pig_Latin**\n",
        "\n",
        " Write a function to convert a word to Pig Latin. Write code that converts text, instead of individual words. Extend it further to preserve capitalization, to keep qu together (i.e. so that quiet becomes ietquay), and to detect when y is used as a consonant (e.g. yellow) vs a vowel (e.g. style)."
      ],
      "metadata": {
        "id": "lkshVBR21a-K"
      }
    },
    {
      "cell_type": "code",
      "source": [
        "import re\n",
        "\n",
        "def is_vowel(letter):\n",
        "    return letter.lower() in 'aeiou'\n",
        "\n",
        "def is_consonant(letter):\n",
        "    return not is_vowel(letter) and letter.lower() not in 'y'"
      ],
      "metadata": {
        "id": "CJ9jMSXkkIyc"
      },
      "execution_count": 23,
      "outputs": []
    },
    {
      "cell_type": "markdown",
      "source": [
        "## 🐷 **Pig Latin Converter**\n",
        "\n",
        "This script converts English words into Pig Latin.\n",
        "\n",
        "---\n",
        "\n",
        "### 📝 **Pig Latin Conversion Process**\n",
        "\n",
        "#### 🔄 **Step 1: Handle Special Case for \"qu\"**\n",
        "- **Special Case**: If the word starts with \"qu\", remove the \"qu\" and add \"quay\" to the end of the word. For example, \"quick\" becomes \"ickquay\".\n",
        "\n",
        "#### 🔄 **Step 2: Check for Vowels**\n",
        "- **Vowel Check**: If the first letter of the word is a vowel, simply add \"ay\" to the end of the word. For instance, \"apple\" becomes \"appleay\".\n",
        "\n",
        "#### 🔄 **Step 3: Process Consonant Clusters**\n",
        "- **Consonant Clusters**: For words starting with consonants, move the initial cluster of consonants to the end of the word and add \"ay\". For example, \"hello\" becomes \"ellohay\".\n"
      ],
      "metadata": {
        "id": "YwGJLK_lIQfx"
      }
    },
    {
      "cell_type": "code",
      "source": [
        "def convert_word_to_pig_latin(word):\n",
        "    word = word.lower()\n",
        "\n",
        "    # Special case handling for \"qu\"\n",
        "    if word.startswith(\"qu\"):\n",
        "        return word[2:] + \"quay\"\n",
        "\n",
        "    # Check if the first letter is a vowel\n",
        "    if is_vowel(word[0]):\n",
        "        return word + \"ay\"\n",
        "\n",
        "    # Move consonant cluster to the end and add \"ay\"\n",
        "    match = re.match(r'^([^aeiouy]*)(.*)', word)\n",
        "    if match:\n",
        "        consonant_cluster = match.group(1)\n",
        "        rest_of_word = match.group(2)\n",
        "        return rest_of_word + consonant_cluster + \"ay\"\n",
        "\n",
        "    return word"
      ],
      "metadata": {
        "id": "MwJgWczXkKCj"
      },
      "execution_count": 24,
      "outputs": []
    },
    {
      "cell_type": "code",
      "source": [
        "convert_word_to_pig_latin('string')"
      ],
      "metadata": {
        "colab": {
          "base_uri": "https://localhost:8080/",
          "height": 42
        },
        "id": "__4tkY3JkNu0",
        "outputId": "e9e90191-fcdd-4ff0-bf74-0f532039886e"
      },
      "execution_count": 25,
      "outputs": [
        {
          "output_type": "execute_result",
          "data": {
            "text/plain": [
              "'ingstray'"
            ],
            "application/vnd.google.colaboratory.intrinsic+json": {
              "type": "string"
            }
          },
          "metadata": {},
          "execution_count": 25
        }
      ]
    },
    {
      "cell_type": "markdown",
      "source": [
        "## Now using above defined function `convert_word_to_pig` to define more generalise function `convert_text__pig_latin`"
      ],
      "metadata": {
        "id": "Oa_UbqknIUi8"
      }
    },
    {
      "cell_type": "code",
      "source": [
        "def convert_text_to_pig_latin(text):\n",
        "    # Find all words in the text\n",
        "    words = re.findall(r'\\b\\w+\\b', text)\n",
        "\n",
        "    # Convert each word to Pig Latin while preserving capitalization\n",
        "    pig_latin_words = []\n",
        "    for word in words:\n",
        "        capitalized = word[0].isupper()\n",
        "        pig_latin_word = convert_word_to_pig_latin(word.lower())\n",
        "        if capitalized:\n",
        "            pig_latin_word = pig_latin_word.capitalize()\n",
        "        pig_latin_words.append(pig_latin_word)\n",
        "\n",
        "    # Replace words in the original text with their Pig Latin equivalents\n",
        "    result = []\n",
        "    last_index = 0\n",
        "    for match in re.finditer(r'\\b\\w+\\b', text):\n",
        "        result.append(text[last_index:match.start()])\n",
        "        result.append(pig_latin_words.pop(0))\n",
        "        last_index = match.end()\n",
        "    result.append(text[last_index:])\n",
        "\n",
        "    return ''.join(result)\n"
      ],
      "metadata": {
        "id": "5Ir3w9H11BGq"
      },
      "execution_count": 29,
      "outputs": []
    },
    {
      "cell_type": "code",
      "source": [
        "\n",
        "# Example usage\n",
        "text = (\n",
        "    'The cats were jumping and playing while the dogs were barking. '\n",
        "    'They were all enjoying the warm weather. A child was running around, '\n",
        "    'chasing butterflies and singing happily. Others were fishing by the river, '\n",
        "    'hoping to catch something. Some people were processing the fresh catch, '\n",
        "    'preparing for a barbecue.'\n",
        ")\n",
        "pig_latin_text = convert_text_to_pig_latin(text)\n",
        "print(pig_latin_text)"
      ],
      "metadata": {
        "colab": {
          "base_uri": "https://localhost:8080/"
        },
        "id": "hzho9S4KIuwv",
        "outputId": "2ebdeec8-a03e-42a2-eae0-a3d8baa0c75d"
      },
      "execution_count": 30,
      "outputs": [
        {
          "output_type": "stream",
          "name": "stdout",
          "text": [
            "Ethay atscay ereway umpingjay anday ayingplay ilewhay ethay ogsday ereway arkingbay. Eythay ereway allay enjoyingay ethay armway eatherway. Aay ildchay asway unningray arounday, asingchay utterfliesbay anday ingingsay appilyhay. Othersay ereway ishingfay ybay ethay iverray, opinghay otay atchcay omethingsay. Omesay eoplepay ereway ocessingpray ethay eshfray atchcay, eparingpray orfay aay arbecuebay.\n"
          ]
        }
      ]
    },
    {
      "cell_type": "markdown",
      "source": [
        "##**Q4)Calculate edit distance between two words-\"Board\" and \"Boord\" using the algorithm discussed in class.**\n",
        "  ## **Based on this edit distance implement spelling correction.**"
      ],
      "metadata": {
        "id": "_Yr5qQ3V-q69"
      }
    },
    {
      "cell_type": "markdown",
      "source": [
        "## 🧮 **Edit Distance**\n",
        "\n",
        "This script calculates the edit distance (Levenshtein distance) between two words. The edit distance is the minimum number of operations required to convert one word into the other, where operations can be insertion, deletion, or substitution.\n",
        "\n",
        "---\n",
        "\n",
        "### 📝 **Edit Distance Calculation Process**\n",
        "\n",
        "#### 🔄 **Step 1: Initialize the Matrix**\n",
        "- **Matrix Creation**: Create a matrix `dp` with dimensions `(len1+1) x (len2+1)`, where `len1` and `len2` are the lengths of the two words. Initialize the matrix with zeros.\n",
        "\n",
        "#### 🔄 **Step 2: Set Base Cases**\n",
        "- **Base Case Initialization**:\n",
        "  - Set `dp[i][0]` to `i` for all `i` from `0` to `len1`, representing the cost of deleting characters from `word1`.\n",
        "  - Set `dp[0][j]` to `j` for all `j` from `0` to `len2`, representing the cost of inserting characters into `word1` to match `word2`.\n",
        "\n",
        "#### 🔄 **Step 3: Fill the Matrix**\n",
        "- **Matrix Filling**: Iterate through the matrix, updating each cell based on whether the characters from the two words match:\n",
        "  - If characters match, copy the value from the diagonal cell (`dp[i-1][j-1]`).\n",
        "  - If characters do not match, compute the minimum cost from deleting, inserting, or substituting a character.\n",
        "\n",
        "#### 🔄 **Step 4: Return Result**\n",
        "- **Result Extraction**: The value in `dp[len1][len2]` is the edit distance between `word1` and `word2`.\n",
        "\n",
        "---\n",
        "\n",
        "### 📊 **Example**\n",
        "\n",
        "For the words \"Board\" and \"Boord\":\n",
        "\n",
        "- **Edit Distance Calculation**: The function computes the minimum number of operations required to transform \"Board\" into \"Boord\".\n",
        "\n",
        "- **Output**: `The edit distance between 'Board' and 'Boord' is 1.`\n"
      ],
      "metadata": {
        "id": "f1NTNeP9I-fi"
      }
    },
    {
      "cell_type": "markdown",
      "source": [
        "![EDIT DISTANCE WITH \"AYUSH\"](https://drive.google.com/uc?export=view&id=1C_S6AUCudACHOR8ZGDTi4W0XrRxd4JkF)"
      ],
      "metadata": {
        "id": "dC9NeI8bMQJ_"
      }
    },
    {
      "cell_type": "code",
      "source": [
        "def calculate_edit_distance(word1, word2):\n",
        "    len1, len2 = len(word1), len(word2)\n",
        "\n",
        "    # Create a (len1+1) x (len2+1) matrix\n",
        "    dp = [[0] * (len2 + 1) for _ in range(len1 + 1)]\n",
        "\n",
        "    # Initialize base cases\n",
        "    for i in range(len1 + 1):\n",
        "        dp[i][0] = i\n",
        "    for j in range(len2 + 1):\n",
        "        dp[0][j] = j\n",
        "\n",
        "    # matrix\n",
        "    for i in range(1, len1 + 1):\n",
        "        for j in range(1, len2 + 1):\n",
        "            if word1[i - 1] == word2[j - 1]:\n",
        "                dp[i][j] = dp[i - 1][j - 1]  # No cost if characters are the same\n",
        "            else:\n",
        "                dp[i][j] = min(\n",
        "                    dp[i - 1][j] + 1,  # Deletion\n",
        "                    dp[i][j - 1] + 1,  # Insertion\n",
        "                    dp[i - 1][j - 1] + 1  # Substitution\n",
        "                )\n",
        "\n",
        "    return dp[len1][len2]\n",
        "\n"
      ],
      "metadata": {
        "id": "4PDCdtOc-4QA"
      },
      "execution_count": 31,
      "outputs": []
    },
    {
      "cell_type": "markdown",
      "source": [
        "###  Example usage"
      ],
      "metadata": {
        "id": "B3AeiTEHJKNI"
      }
    },
    {
      "cell_type": "code",
      "source": [
        "word1 = \"Board\"\n",
        "word2 = \"Boord\"\n",
        "edit_distance = calculate_edit_distance(word1, word2)\n",
        "print(f\"The edit distance between '{word1}' and '{word2}' is {edit_distance}.\""
      ],
      "metadata": {
        "colab": {
          "base_uri": "https://localhost:8080/"
        },
        "id": "wbSBrd4FJHMP",
        "outputId": "8cc8d2fd-b90f-4e56-d85e-50f53f84450a"
      },
      "execution_count": 32,
      "outputs": [
        {
          "output_type": "stream",
          "name": "stdout",
          "text": [
            "The edit distance between 'Board' and 'Boord' is 1.\n"
          ]
        }
      ]
    },
    {
      "cell_type": "markdown",
      "source": [
        " # Spelling correction."
      ],
      "metadata": {
        "id": "8c5EFV6rlyAe"
      }
    },
    {
      "cell_type": "markdown",
      "source": [
        "## 🔍 **Generate Candidates**\n",
        "\n",
        "This function generates a set of candidate words that are one edit distance away from a given word. The possible edits include insertion, deletion, substitution, and transposition of characters.\n",
        "\n",
        "---\n",
        "\n",
        "### 📝 **Candidate Generation Process**\n",
        "\n",
        "#### 🔄 **Step 1: Insertion**\n",
        "- **Insertion**: For each position in the word, try inserting every letter of the alphabet. If the resulting word is in the dictionary, add it to the set of candidates.\n",
        "\n",
        "#### 🔄 **Step 2: Deletion**\n",
        "- **Deletion**: For each position in the word, try deleting the character at that position. If the resulting word is in the dictionary, add it to the set of candidates.\n",
        "\n",
        "#### 🔄 **Step 3: Substitution**\n",
        "- **Substitution**: For each position in the word, try substituting the character at that position with every letter of the alphabet (except itself). If the resulting word is in the dictionary, add it to the set of candidates.\n",
        "\n",
        "#### 🔄 **Step 4: Transposition**\n",
        "- **Transposition**: For each adjacent pair of characters in the word, swap them. If the resulting word is in the dictionary, add it to the set of candidates.\n",
        "\n",
        "---\n",
        "\n",
        "### 📊 **Example**\n",
        "\n",
        "For the word \"boord\" and the dictionary `{'board', 'bored', 'bound', 'brood'}`:\n",
        "\n",
        "- **Candidates Generated**: The function might generate candidates like \"board\", \"bored\", and \"brood\" if they are present in the dictionary.\n",
        "\n",
        "- **Output**: A set of valid candidate words that are one edit distance from \"boord\".\n"
      ],
      "metadata": {
        "id": "RZNAn3OeKCYi"
      }
    },
    {
      "cell_type": "code",
      "source": [
        "def generate_candidates(word, dictionary):\n",
        "    \"\"\"\n",
        "    Generate a set of candidate words that are one edit distance away from the given word.\n",
        "    The edits include insertion, deletion, substitution, and transposition.\n",
        "\n",
        "    Args:\n",
        "        word (str): The word to generate candidates for.\n",
        "        dictionary (set): A set of valid words.\n",
        "\n",
        "    Returns:\n",
        "        set: A set of candidate words.\n",
        "    \"\"\"\n",
        "    candidates = set()\n",
        "\n",
        "    # Insertion\n",
        "    for i in range(len(word) + 1):\n",
        "        for c in string.ascii_lowercase:\n",
        "            candidate = word[:i] + c + word[i:]\n",
        "            if candidate in dictionary:\n",
        "                candidates.add(candidate)\n",
        "\n",
        "    # Deletion\n",
        "    for i in range(len(word)):\n",
        "        candidate = word[:i] + word[i+1:]\n",
        "        if candidate in dictionary:\n",
        "            candidates.add(candidate)\n",
        "\n",
        "    # Substitution\n",
        "    for i in range(len(word)):\n",
        "        for c in string.ascii_lowercase:\n",
        "            if word[i] != c:\n",
        "                candidate = word[:i] + c + word[i+1:]\n",
        "                if candidate in dictionary:\n",
        "                    candidates.add(candidate)\n",
        "\n",
        "    # Transposition\n",
        "    for i in range(len(word) - 1):\n",
        "        candidate = word[:i] + word[i+1] + word[i] + word[i+2:]\n",
        "        if candidate in dictionary:\n",
        "            candidates.add(candidate)\n",
        "\n",
        "    return candidates\n"
      ],
      "metadata": {
        "id": "TnUPbYxcJaur"
      },
      "execution_count": 33,
      "outputs": []
    },
    {
      "cell_type": "markdown",
      "source": [
        "## ✨ **Correct Spelling**\n",
        "\n",
        "This function corrects the spelling of a word by finding the closest candidate from a given dictionary. It selects the candidate with the smallest edit distance from the original word.\n",
        "\n",
        "---\n",
        "\n",
        "### 📝 **Spelling Correction Process**\n",
        "\n",
        "#### 🔄 **Step 1: Generate Candidates**\n",
        "- **Candidate Generation**: Use the `generate_candidates` function to get a set of possible corrections for the given word.\n",
        "\n",
        "#### 🔄 **Step 2: Find Closest Candidate**\n",
        "- **Distance Calculation**: For each candidate, calculate the edit distance from the original word using the `calculate_edit_distance` function.\n",
        "- **Select Closest Candidate**: Choose the candidate with the smallest edit distance as the most likely correction.\n",
        "\n",
        "#### 🔄 **Step 3: Return Result**\n",
        "- **Result**: Return the closest candidate. If no valid candidates are found, return the original word.\n",
        "\n",
        "---\n",
        "\n",
        "### 📊 **Example**\n",
        "\n",
        "For the misspelled word \"boord\" and the dictionary `{'board', 'bored', 'bound', 'brood'}`:\n",
        "\n",
        "- **Corrected Spelling**: The function evaluates possible candidates like \"board\", \"bored\", and \"brood\" and selects \"board\" as the best match based on edit distance.\n",
        "\n",
        "- **Output**: The corrected spelling of \"boord\" is \"board\".\n"
      ],
      "metadata": {
        "id": "ZNDYMlkeKERV"
      }
    },
    {
      "cell_type": "code",
      "source": [
        "\n",
        "def correct_spelling(word, dictionary):\n",
        "    \"\"\"\n",
        "    Correct the spelling of a word by finding the closest candidate from the dictionary.\n",
        "\n",
        "    Args:\n",
        "        word (str): The misspelled word.\n",
        "        dictionary (set): A set of valid words.\n",
        "\n",
        "    Returns:\n",
        "        str: The corrected spelling of the word.\n",
        "    \"\"\"\n",
        "    candidates = generate_candidates(word, dictionary)\n",
        "\n",
        "    # Return the original word if no candidates are found\n",
        "    if not candidates:\n",
        "        return word\n",
        "\n",
        "    # Find the candidate with the smallest edit distance\n",
        "    closest_candidate = min(candidates, key=lambda candidate: calculate_edit_distance(word, candidate))\n",
        "\n",
        "    return closest_candidate\n",
        "\n"
      ],
      "metadata": {
        "id": "nZIa9yKFJexx"
      },
      "execution_count": 34,
      "outputs": []
    },
    {
      "cell_type": "markdown",
      "source": [
        "### Example usage"
      ],
      "metadata": {
        "id": "9KWXCY24JsEx"
      }
    },
    {
      "cell_type": "code",
      "source": [
        "dictionary = {'board', 'bored', 'bound', 'brood'}  # Example dictionary\n",
        "misspelled_word = 'boord'\n",
        "\n",
        "corrected_word = correct_spelling(misspelled_word, dictionary)\n",
        "print(f\"The corrected spelling for '{misspelled_word}' is '{corrected_word}'.\")\n"
      ],
      "metadata": {
        "colab": {
          "base_uri": "https://localhost:8080/"
        },
        "id": "iHdYoYV3JgXI",
        "outputId": "5c17b397-f513-4ef1-bf8e-96680824aa97"
      },
      "execution_count": 37,
      "outputs": [
        {
          "output_type": "stream",
          "name": "stdout",
          "text": [
            "The corrected spelling for 'boord' is 'board'.\n"
          ]
        }
      ]
    },
    {
      "cell_type": "markdown",
      "source": [
        "***"
      ],
      "metadata": {
        "id": "4PikrGyPmmrU"
      }
    }
  ]
}